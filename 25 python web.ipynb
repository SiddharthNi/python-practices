{
 "cells": [
  {
   "cell_type": "markdown",
   "id": "c25b1478",
   "metadata": {},
   "source": [
    "Python is a general purpose programming language and it can be used for many places. In this section, we will see how we use Python for the web. \n",
    "\n",
    "There are many Python web frame works. Django and Flask are the most popular ones. Today, we will see how to use Flask for web development.\n",
    "\n",
    "Flask\n",
    "\n",
    "Flask is a web development framework written in Python. Flask uses Jinja2 template engine. Flask can be also used with other modern front libraries such as React.\n",
    "\n",
    "If you did not install the virtualenv package yet install it first. Virtual environment will allows to isolate project dependencies from the local machine dependencies.\n",
    "\n"
   ]
  },
  {
   "cell_type": "code",
   "execution_count": 2,
   "id": "355820be",
   "metadata": {},
   "outputs": [
    {
     "ename": "SyntaxError",
     "evalue": "invalid character '├' (U+251C) (904288903.py, line 4)",
     "output_type": "error",
     "traceback": [
      "\u001b[1;36m  Cell \u001b[1;32mIn[2], line 4\u001b[1;36m\u001b[0m\n\u001b[1;33m    ├── Procfile\u001b[0m\n\u001b[1;37m    ^\u001b[0m\n\u001b[1;31mSyntaxError\u001b[0m\u001b[1;31m:\u001b[0m invalid character '├' (U+251C)\n"
     ]
    }
   ],
   "source": [
    "#Folder structure\n",
    "#After completing all the step, your project file structure should look like this:\n",
    "\n",
    "├── Procfile\n",
    "├── app.py\n",
    "├── env\n",
    "│   ├── bin\n",
    "├── requirements.txt\n",
    "├── static\n",
    "│   └── css\n",
    "│       └── main.css\n",
    "└── templates\n",
    "    ├── about.html\n",
    "    ├── home.html\n",
    "    ├── layout.html\n",
    "    ├── post.html\n",
    "    └── result.html"
   ]
  },
  {
   "cell_type": "code",
   "execution_count": 3,
   "id": "21b39163",
   "metadata": {},
   "outputs": [
    {
     "name": "stdout",
     "output_type": "stream",
     "text": [
      " * Serving Flask app '__main__'\n",
      " * Debug mode: on\n"
     ]
    },
    {
     "name": "stderr",
     "output_type": "stream",
     "text": [
      "WARNING: This is a development server. Do not use it in a production deployment. Use a production WSGI server instead.\n",
      " * Running on all addresses (0.0.0.0)\n",
      " * Running on http://127.0.0.1:5000\n",
      " * Running on http://192.168.43.90:5000\n",
      "Press CTRL+C to quit\n",
      " * Restarting with watchdog (windowsapi)\n"
     ]
    },
    {
     "ename": "SystemExit",
     "evalue": "1",
     "output_type": "error",
     "traceback": [
      "An exception has occurred, use %tb to see the full traceback.\n",
      "\u001b[1;31mSystemExit\u001b[0m\u001b[1;31m:\u001b[0m 1\n"
     ]
    },
    {
     "name": "stderr",
     "output_type": "stream",
     "text": [
      "C:\\Users\\ASUS\\anaconda3\\Lib\\site-packages\\IPython\\core\\interactiveshell.py:3513: UserWarning: To exit: use 'exit', 'quit', or Ctrl-D.\n",
      "  warn(\"To exit: use 'exit', 'quit', or Ctrl-D.\", stacklevel=1)\n"
     ]
    }
   ],
   "source": [
    "# let's import the flask\n",
    "from flask import Flask\n",
    "import os # importing operating system module\n",
    "\n",
    "app = Flask(__name__)\n",
    "\n",
    "@app.route('/') # this decorator create the home route\n",
    "def home ():\n",
    "    return '<h1>Welcome</h1>'\n",
    "\n",
    "@app.route('/about')\n",
    "def about():\n",
    "    return '<h1>About us</h1>'\n",
    "\n",
    "\n",
    "if __name__ == '__main__':\n",
    "    # for deployment we use the environ\n",
    "    # to make it work for both production and development\n",
    "    port = int(os.environ.get(\"PORT\", 5000))\n",
    "    app.run(debug=True, host='0.0.0.0', port=port)"
   ]
  },
  {
   "cell_type": "code",
   "execution_count": null,
   "id": "d99251c3",
   "metadata": {},
   "outputs": [],
   "source": []
  }
 ],
 "metadata": {
  "kernelspec": {
   "display_name": "Python 3 (ipykernel)",
   "language": "python",
   "name": "python3"
  },
  "language_info": {
   "codemirror_mode": {
    "name": "ipython",
    "version": 3
   },
   "file_extension": ".py",
   "mimetype": "text/x-python",
   "name": "python",
   "nbconvert_exporter": "python",
   "pygments_lexer": "ipython3",
   "version": "3.11.3"
  }
 },
 "nbformat": 4,
 "nbformat_minor": 5
}
