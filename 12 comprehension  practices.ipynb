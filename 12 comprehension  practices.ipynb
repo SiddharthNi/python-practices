{
 "cells": [
  {
   "cell_type": "markdown",
   "id": "720f517b",
   "metadata": {},
   "source": [
    "Filter only negative and zero in the list using list comprehension\n",
    "\n",
    "numbers = [-4, -3, -2, -1, 0, 2, 4, 6]\n",
    "\n",
    "\n",
    "Flatten the following list of lists of lists to a one dimensional list :\n",
    "\n",
    "list_of_lists =[[[1, 2, 3]], [[4, 5, 6]], [[7, 8, 9]]]\n",
    "\n",
    "output\n",
    "[1, 2, 3, 4, 5, 6, 7, 8, 9]\n",
    "\n",
    "\n",
    "Using list comprehension create the following list of tuples:\n",
    "\n",
    "[(0, 1, 0, 0, 0, 0, 0),\n",
    " \n",
    "(1, 1, 1, 1, 1, 1, 1),\n",
    " \n",
    "(2, 1, 2, 4, 8, 16, 32),\n",
    " \n",
    "(3, 1, 3, 9, 27, 81, 243),\n",
    " \n",
    "(4, 1, 4, 16, 64, 256, 1024),\n",
    " \n",
    "(5, 1, 5, 25, 125, 625, 3125),\n",
    " \n",
    "(6, 1, 6, 36, 216, 1296, 7776),\n",
    " \n",
    "(7, 1, 7, 49, 343, 2401, 16807),\n",
    " \n",
    "(8, 1, 8, 64, 512, 4096, 32768),\n",
    " \n",
    "(9, 1, 9, 81, 729, 6561, 59049),\n",
    " \n",
    "(10, 1, 10, 100, 1000, 10000, 100000)]\n",
    "\n",
    "Flatten the following list to a new list:\n",
    "    \n",
    "\n",
    "countries = [[('Finland', 'Helsinki')], [('Sweden', 'Stockholm')], [('Norway', 'Oslo')]]\n",
    "\n",
    "output:\n",
    "[['FINLAND','FIN', 'HELSINKI'], ['SWEDEN', 'SWE', 'STOCKHOLM'], ['NORWAY', 'NOR', 'OSLO']]\n",
    "\n",
    "Change the following list to a list of dictionaries:\n",
    "\n",
    "countries = [[('Finland', 'Helsinki')], [('Sweden', 'Stockholm')], [('Norway', 'Oslo')]]\n",
    "\n",
    "output:\n",
    "    \n",
    "[{'country': 'FINLAND', 'city': 'HELSINKI'},\n",
    " \n",
    "{'country': 'SWEDEN', 'city': 'STOCKHOLM'},\n",
    " \n",
    "{'country': 'NORWAY', 'city': 'OSLO'}]\n",
    " \n",
    "Change the following list of lists to a list of concatenated strings:\n",
    "    \n",
    "\n",
    "names = [[('Asabeneh', 'Yetayeh')], [('David', 'Smith')], [('Donald', 'Trump')], [('Bill', 'Gates')]]\n",
    "\n",
    "output\n",
    "\n",
    "['Asabeneh Yetaeyeh', 'David Smith', 'Donald Trump', 'Bill Gates']"
   ]
  },
  {
   "cell_type": "code",
   "execution_count": 1,
   "id": "914fb34b",
   "metadata": {},
   "outputs": [
    {
     "name": "stdout",
     "output_type": "stream",
     "text": [
      "[-4, -3, -2, -1, 0]\n"
     ]
    }
   ],
   "source": [
    "# Filter only negative and zero numbers in the list using list comprehension\n",
    "numbers = [-4, -3, -2, -1, 0, 2, 4, 6]\n",
    "filtered_numbers = [num for num in numbers if num <= 0]\n",
    "print(filtered_numbers)"
   ]
  },
  {
   "cell_type": "code",
   "execution_count": 2,
   "id": "27a9e8f8",
   "metadata": {},
   "outputs": [
    {
     "name": "stdout",
     "output_type": "stream",
     "text": [
      "[1, 2, 3, 4, 5, 6, 7, 8, 9]\n"
     ]
    }
   ],
   "source": [
    "# Flatten the list of lists of lists to a one-dimensional list\n",
    "list_of_lists = [[[1, 2, 3]], [[4, 5, 6]], [[7, 8, 9]]]\n",
    "flattened_list = [num for sublist in list_of_lists for subsublist in sublist for num in subsublist]\n",
    "print(flattened_list)  # Output: [1, 2, 3, 4, 5, 6, 7, 8, 9]"
   ]
  },
  {
   "cell_type": "code",
   "execution_count": 3,
   "id": "b3f0f946",
   "metadata": {},
   "outputs": [
    {
     "name": "stdout",
     "output_type": "stream",
     "text": [
      "[(0, 1, 1, 1, 1, 1, 1, 1), (1, 0, 1, 2, 3, 4, 5, 6), (2, 0, 1, 4, 9, 16, 25, 36), (3, 0, 1, 8, 27, 64, 125, 216), (4, 0, 1, 16, 81, 256, 625, 1296), (5, 0, 1, 32, 243, 1024, 3125, 7776), (6, 0, 1, 64, 729, 4096, 15625, 46656), (7, 0, 1, 128, 2187, 16384, 78125, 279936), (8, 0, 1, 256, 6561, 65536, 390625, 1679616), (9, 0, 1, 512, 19683, 262144, 1953125, 10077696), (10, 0, 1, 1024, 59049, 1048576, 9765625, 60466176)]\n"
     ]
    }
   ],
   "source": [
    "# Create a list of tuples using list comprehension\n",
    "tuples_list = [(i,) + tuple([j ** i for j in range(7)]) for i in range(11)]\n",
    "print(tuples_list)"
   ]
  },
  {
   "cell_type": "code",
   "execution_count": 4,
   "id": "8c51b212",
   "metadata": {},
   "outputs": [
    {
     "name": "stdout",
     "output_type": "stream",
     "text": [
      "[['FINLAND', 'HELSINKI'], ['SWEDEN', 'STOCKHOLM'], ['NORWAY', 'OSLO']]\n"
     ]
    }
   ],
   "source": [
    "# Flatten the list to a new list\n",
    "countries = [[('Finland', 'Helsinki')], [('Sweden', 'Stockholm')], [('Norway', 'Oslo')]]\n",
    "flattened_countries = [[item.upper() if isinstance(item, str) else item for pair in sublist for item in pair] for sublist in countries]\n",
    "print(flattened_countries)\n"
   ]
  },
  {
   "cell_type": "code",
   "execution_count": 5,
   "id": "ce9bb7e3",
   "metadata": {},
   "outputs": [
    {
     "name": "stdout",
     "output_type": "stream",
     "text": [
      "[{'country': 'Finland', 'city': 'Helsinki'}, {'country': 'Sweden', 'city': 'Stockholm'}, {'country': 'Norway', 'city': 'Oslo'}]\n"
     ]
    }
   ],
   "source": [
    "# Change the list to a list of dictionaries\n",
    "countries = [[('Finland', 'Helsinki')], [('Sweden', 'Stockholm')], [('Norway', 'Oslo')]]\n",
    "dict_list = [{'country': country, 'city': city} for [(country, city)] in countries]\n",
    "print(dict_list)"
   ]
  },
  {
   "cell_type": "code",
   "execution_count": 6,
   "id": "9c72037e",
   "metadata": {},
   "outputs": [
    {
     "name": "stdout",
     "output_type": "stream",
     "text": [
      "['Asabeneh Yetayeh', 'David Smith', 'Donald Trump', 'Bill Gates']\n"
     ]
    }
   ],
   "source": [
    "# Change the list of lists to a list of concatenated strings\n",
    "names = [[('Asabeneh', 'Yetayeh')], [('David', 'Smith')], [('Donald', 'Trump')], [('Bill', 'Gates')]]\n",
    "concatenated_names = [' '.join([first, last]) for [(first, last)] in names]\n",
    "print(concatenated_names)"
   ]
  }
 ],
 "metadata": {
  "kernelspec": {
   "display_name": "Python 3 (ipykernel)",
   "language": "python",
   "name": "python3"
  },
  "language_info": {
   "codemirror_mode": {
    "name": "ipython",
    "version": 3
   },
   "file_extension": ".py",
   "mimetype": "text/x-python",
   "name": "python",
   "nbconvert_exporter": "python",
   "pygments_lexer": "ipython3",
   "version": "3.11.3"
  }
 },
 "nbformat": 4,
 "nbformat_minor": 5
}
