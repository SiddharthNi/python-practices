{
 "cells": [
  {
   "cell_type": "markdown",
   "id": "6310c39b",
   "metadata": {},
   "source": [
    "You can unpack the first five countries from the names list into a variable called nordic_countries and store Estonia and Russia in variables es and ru, respectively, like this:"
   ]
  },
  {
   "cell_type": "code",
   "execution_count": 1,
   "id": "da94fabd",
   "metadata": {},
   "outputs": [],
   "source": [
    "names = ['Finland', 'Sweden', 'Norway', 'Denmark', 'Iceland', 'Estonia', 'Russia']"
   ]
  },
  {
   "cell_type": "code",
   "execution_count": 2,
   "id": "d58694d3",
   "metadata": {},
   "outputs": [
    {
     "name": "stdout",
     "output_type": "stream",
     "text": [
      "Nordic Countries: ['Finland', 'Sweden', 'Norway', 'Denmark', 'Iceland']\n",
      "Estonia: Estonia\n",
      "Russia: Russia\n"
     ]
    }
   ],
   "source": [
    "nordic_countries = names[:5]\n",
    "es, ru = names[5:7]\n",
    "\n",
    "print(\"Nordic Countries:\", nordic_countries)\n",
    "print(\"Estonia:\", es)\n",
    "print(\"Russia:\", ru)"
   ]
  },
  {
   "cell_type": "code",
   "execution_count": null,
   "id": "71d5f96b",
   "metadata": {},
   "outputs": [],
   "source": []
  }
 ],
 "metadata": {
  "kernelspec": {
   "display_name": "Python 3 (ipykernel)",
   "language": "python",
   "name": "python3"
  },
  "language_info": {
   "codemirror_mode": {
    "name": "ipython",
    "version": 3
   },
   "file_extension": ".py",
   "mimetype": "text/x-python",
   "name": "python",
   "nbconvert_exporter": "python",
   "pygments_lexer": "ipython3",
   "version": "3.11.3"
  }
 },
 "nbformat": 4,
 "nbformat_minor": 5
}
