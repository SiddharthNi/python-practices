{
 "cells": [
  {
   "cell_type": "code",
   "execution_count": 1,
   "id": "737c018b",
   "metadata": {},
   "outputs": [],
   "source": [
    "it_companies = {'Facebook', 'Google', 'Microsoft', 'Apple', 'IBM', 'Oracle', 'Amazon'}\n",
    "A = {19, 22, 24, 20, 25, 26}\n",
    "B = {19, 22, 20, 25, 26, 24, 28, 27}\n",
    "age = [22, 19, 24, 25, 26, 24, 25, 24]"
   ]
  },
  {
   "cell_type": "markdown",
   "id": "d8f799ee",
   "metadata": {},
   "source": [
    "Find the length of the set it_companies\n",
    "\n",
    "Add 'Twitter' to it_companies\n",
    "\n",
    "Insert multiple IT companies at once to the set it_companies\n",
    "\n",
    "Remove one of the companies from the set it_companies\n",
    "\n",
    "What is the difference between remove and discard"
   ]
  },
  {
   "cell_type": "code",
   "execution_count": 2,
   "id": "d1737b48",
   "metadata": {},
   "outputs": [
    {
     "data": {
      "text/plain": [
       "7"
      ]
     },
     "execution_count": 2,
     "metadata": {},
     "output_type": "execute_result"
    }
   ],
   "source": [
    "(len(it_companies))"
   ]
  },
  {
   "cell_type": "code",
   "execution_count": 3,
   "id": "e6b4ee00",
   "metadata": {},
   "outputs": [],
   "source": [
    "it_companies.add(\"Twitter\")"
   ]
  },
  {
   "cell_type": "code",
   "execution_count": 4,
   "id": "4f948e32",
   "metadata": {},
   "outputs": [
    {
     "data": {
      "text/plain": [
       "{'Amazon',\n",
       " 'Apple',\n",
       " 'Facebook',\n",
       " 'Google',\n",
       " 'IBM',\n",
       " 'Microsoft',\n",
       " 'Oracle',\n",
       " 'Twitter'}"
      ]
     },
     "execution_count": 4,
     "metadata": {},
     "output_type": "execute_result"
    }
   ],
   "source": [
    "it_companies"
   ]
  },
  {
   "cell_type": "code",
   "execution_count": 10,
   "id": "ab3850e3",
   "metadata": {},
   "outputs": [],
   "source": [
    "it_companies.update(['Apple','Motorola','Nokia'])"
   ]
  },
  {
   "cell_type": "code",
   "execution_count": 11,
   "id": "b5ddcc72",
   "metadata": {},
   "outputs": [
    {
     "data": {
      "text/plain": [
       "{'A',\n",
       " 'Amazon',\n",
       " 'Apple',\n",
       " 'Facebook',\n",
       " 'Google',\n",
       " 'IBM',\n",
       " 'M',\n",
       " 'Microsoft',\n",
       " 'Motorola',\n",
       " 'N',\n",
       " 'Nokia',\n",
       " 'Oracle',\n",
       " 'Twitter',\n",
       " 'a',\n",
       " 'e',\n",
       " 'i',\n",
       " 'k',\n",
       " 'l',\n",
       " 'o',\n",
       " 'p',\n",
       " 'r',\n",
       " 't'}"
      ]
     },
     "execution_count": 11,
     "metadata": {},
     "output_type": "execute_result"
    }
   ],
   "source": [
    "it_companies"
   ]
  },
  {
   "cell_type": "code",
   "execution_count": 12,
   "id": "f00b66a6",
   "metadata": {},
   "outputs": [],
   "source": [
    "it_companies.remove('Microsoft')  "
   ]
  },
  {
   "cell_type": "code",
   "execution_count": 13,
   "id": "40d1fa60",
   "metadata": {},
   "outputs": [
    {
     "data": {
      "text/plain": [
       "{'A',\n",
       " 'Amazon',\n",
       " 'Apple',\n",
       " 'Facebook',\n",
       " 'Google',\n",
       " 'IBM',\n",
       " 'M',\n",
       " 'Motorola',\n",
       " 'N',\n",
       " 'Nokia',\n",
       " 'Oracle',\n",
       " 'Twitter',\n",
       " 'a',\n",
       " 'e',\n",
       " 'i',\n",
       " 'k',\n",
       " 'l',\n",
       " 'o',\n",
       " 'p',\n",
       " 'r',\n",
       " 't'}"
      ]
     },
     "execution_count": 13,
     "metadata": {},
     "output_type": "execute_result"
    }
   ],
   "source": [
    "it_companies"
   ]
  }
 ],
 "metadata": {
  "kernelspec": {
   "display_name": "Python 3 (ipykernel)",
   "language": "python",
   "name": "python3"
  },
  "language_info": {
   "codemirror_mode": {
    "name": "ipython",
    "version": 3
   },
   "file_extension": ".py",
   "mimetype": "text/x-python",
   "name": "python",
   "nbconvert_exporter": "python",
   "pygments_lexer": "ipython3",
   "version": "3.11.3"
  }
 },
 "nbformat": 4,
 "nbformat_minor": 5
}
