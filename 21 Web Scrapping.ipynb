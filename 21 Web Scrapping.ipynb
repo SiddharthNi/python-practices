{
 "cells": [
  {
   "cell_type": "markdown",
   "id": "63b9a77e",
   "metadata": {},
   "source": [
    "What is Web Scrapping?\n",
    "\n",
    "The internet is full of huge amount of data which can be used for different purposes. To collect this data we need to know how to scrape data from a website.\n",
    "\n",
    "Web scraping is the process of extracting and collecting data from websites and storing it on a local machine or in a database.\n",
    "\n",
    "In this section, we will use beautifulsoup and requests package to scrape data. The package version we are using is beautifulsoup 4.\n",
    "\n",
    "To start scraping websites you need requests, beautifoulSoup4 and a website."
   ]
  },
  {
   "cell_type": "code",
   "execution_count": 2,
   "id": "6f933763",
   "metadata": {},
   "outputs": [
    {
     "name": "stdout",
     "output_type": "stream",
     "text": [
      "Requirement already satisfied: requests in c:\\users\\asus\\anaconda3\\lib\\site-packages (2.29.0)\n",
      "Requirement already satisfied: charset-normalizer<4,>=2 in c:\\users\\asus\\anaconda3\\lib\\site-packages (from requests) (2.0.4)\n",
      "Requirement already satisfied: idna<4,>=2.5 in c:\\users\\asus\\anaconda3\\lib\\site-packages (from requests) (3.4)\n",
      "Requirement already satisfied: urllib3<1.27,>=1.21.1 in c:\\users\\asus\\anaconda3\\lib\\site-packages (from requests) (1.26.16)\n",
      "Requirement already satisfied: certifi>=2017.4.17 in c:\\users\\asus\\anaconda3\\lib\\site-packages (from requests) (2023.5.7)\n",
      "Note: you may need to restart the kernel to use updated packages.\n"
     ]
    }
   ],
   "source": [
    "pip install requests\n"
   ]
  },
  {
   "cell_type": "code",
   "execution_count": 3,
   "id": "fdd64d47",
   "metadata": {},
   "outputs": [
    {
     "name": "stdout",
     "output_type": "stream",
     "text": [
      "Requirement already satisfied: beautifulsoup4 in c:\\users\\asus\\anaconda3\\lib\\site-packages (4.12.2)\n",
      "Requirement already satisfied: soupsieve>1.2 in c:\\users\\asus\\anaconda3\\lib\\site-packages (from beautifulsoup4) (2.4)\n",
      "Note: you may need to restart the kernel to use updated packages.\n"
     ]
    }
   ],
   "source": [
    "pip install beautifulsoup4\n"
   ]
  },
  {
   "cell_type": "markdown",
   "id": "7eb15a1b",
   "metadata": {},
   "source": [
    "To scrape data from websites, basic understanding of HTML tags and CSS selectors is needed. We target content from a website \n",
    "\n",
    "using HTML tags, classes or/and ids. Let us import the requests and BeautifulSoup module"
   ]
  },
  {
   "cell_type": "code",
   "execution_count": 4,
   "id": "7552e73a",
   "metadata": {},
   "outputs": [],
   "source": [
    "import requests\n",
    "from bs4 import BeautifulSoup"
   ]
  }
 ],
 "metadata": {
  "kernelspec": {
   "display_name": "Python 3 (ipykernel)",
   "language": "python",
   "name": "python3"
  },
  "language_info": {
   "codemirror_mode": {
    "name": "ipython",
    "version": 3
   },
   "file_extension": ".py",
   "mimetype": "text/x-python",
   "name": "python",
   "nbconvert_exporter": "python",
   "pygments_lexer": "ipython3",
   "version": "3.11.3"
  }
 },
 "nbformat": 4,
 "nbformat_minor": 5
}
