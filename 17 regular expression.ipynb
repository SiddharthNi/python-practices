{
 "cells": [
  {
   "cell_type": "markdown",
   "id": "e7998cee",
   "metadata": {},
   "source": [
    "What is the most frequent word in the following paragraph?\n",
    "\n",
    "    paragraph = 'I love teaching. If you do not love teaching what else can you love. I love Python if you do not love something which can give you all the capabilities to develop an application what else can you love.\n",
    "    \n",
    "    [\n",
    "    (6, 'love'),\n",
    "    (5, 'you'),\n",
    "    (3, 'can'),\n",
    "    (2, 'what'),\n",
    "    (2, 'teaching'),\n",
    "    (2, 'not'),\n",
    "    (2, 'else'),\n",
    "    (2, 'do'),\n",
    "    (2, 'I'),\n",
    "    (1, 'which'),\n",
    "    (1, 'to'),\n",
    "    (1, 'the'),\n",
    "    (1, 'something'),\n",
    "    (1, 'if'),\n",
    "    (1, 'give'),\n",
    "    (1, 'develop'),\n",
    "    (1, 'capabilities'),\n",
    "    (1, 'application'),\n",
    "    (1, 'an'),\n",
    "    (1, 'all'),\n",
    "    (1, 'Python'),\n",
    "    (1, 'If')\n",
    "    ]"
   ]
  },
  {
   "cell_type": "code",
   "execution_count": 1,
   "id": "933243b9",
   "metadata": {},
   "outputs": [
    {
     "name": "stdout",
     "output_type": "stream",
     "text": [
      "The most frequent word is 'love' with a count of 6.\n"
     ]
    }
   ],
   "source": [
    "import re\n",
    "from collections import Counter\n",
    "\n",
    "paragraph = 'I love teaching. If you do not love teaching what else can you love. I love Python if you do not love something which can give you all the capabilities to develop an application what else can you love.'\n",
    "\n",
    "# Use regular expression to find words\n",
    "words = re.findall(r'\\b\\w+\\b', paragraph.lower())\n",
    "\n",
    "# Count the occurrences of each word\n",
    "word_counts = Counter(words)\n",
    "\n",
    "# Find the most frequent word\n",
    "most_common_word = word_counts.most_common(1)[0]\n",
    "\n",
    "print(\"The most frequent word is '{}' with a count of {}.\".format(most_common_word[0], most_common_word[1]))\n"
   ]
  },
  {
   "cell_type": "markdown",
   "id": "87295a96",
   "metadata": {},
   "source": [
    "The position of some particles on the horizontal x-axis are -12, -4, -3 and -1 in the negative direction, 0 at origin, 4 and 8 in the positive direction. Extract these numbers from this whole text and find the distance between the two furthest particles.\n",
    "\n",
    "points = ['-12', '-4', '-3', '-1', '0', '4', '8']\n",
    "\n",
    "sorted_points =  [-12, -4, -3, -1, -1, 0, 2, 4, 8]\n",
    "\n",
    "distance = 8 -(-12)"
   ]
  },
  {
   "cell_type": "code",
   "execution_count": 2,
   "id": "44c99071",
   "metadata": {},
   "outputs": [
    {
     "name": "stdout",
     "output_type": "stream",
     "text": [
      "The distance between the two furthest particles is: 20\n"
     ]
    }
   ],
   "source": [
    "import re\n",
    "\n",
    "# Given text\n",
    "text = \"The position of some particles on the horizontal x-axis are -12, -4, -3 and -1 in the negative direction, 0 at origin, 4 and 8 in the positive direction.\"\n",
    "\n",
    "# Extract numbers from the text using regular expression\n",
    "numbers = re.findall(r'-?\\d+', text)\n",
    "\n",
    "# Convert the numbers to integers\n",
    "numbers = [int(num) for num in numbers]\n",
    "\n",
    "# Find the distance between the furthest particles\n",
    "distance = max(numbers) - min(numbers)\n",
    "\n",
    "print(\"The distance between the two furthest particles is:\", distance)\n"
   ]
  },
  {
   "cell_type": "markdown",
   "id": "f3f2d44e",
   "metadata": {},
   "source": [
    "Write a pattern which identifies if a string is a valid python variable\n",
    "\n",
    "is_valid_variable('first_name') # True\n",
    "\n",
    "is_valid_variable('first-name') # False\n",
    "\n",
    "is_valid_variable('1first_name') # False\n",
    "\n",
    "is_valid_variable('firstname') # True"
   ]
  },
  {
   "cell_type": "code",
   "execution_count": 3,
   "id": "7e53439d",
   "metadata": {},
   "outputs": [
    {
     "name": "stdout",
     "output_type": "stream",
     "text": [
      "True\n",
      "False\n",
      "False\n",
      "True\n"
     ]
    }
   ],
   "source": [
    "import re\n",
    "\n",
    "def is_valid_variable(variable):\n",
    "    # Define the regular expression pattern\n",
    "    pattern = r'^[a-zA-Z_][a-zA-Z0-9_]*$'\n",
    "    \n",
    "    # Check if the variable matches the pattern\n",
    "    if re.match(pattern, variable):\n",
    "        return True\n",
    "    else:\n",
    "        return False\n",
    "\n",
    "# Test cases\n",
    "print(is_valid_variable('first_name'))   # True\n",
    "print(is_valid_variable('first-name'))   # False\n",
    "print(is_valid_variable('1first_name'))  # False\n",
    "print(is_valid_variable('firstname'))    # True\n"
   ]
  }
 ],
 "metadata": {
  "kernelspec": {
   "display_name": "Python 3 (ipykernel)",
   "language": "python",
   "name": "python3"
  },
  "language_info": {
   "codemirror_mode": {
    "name": "ipython",
    "version": 3
   },
   "file_extension": ".py",
   "mimetype": "text/x-python",
   "name": "python",
   "nbconvert_exporter": "python",
   "pygments_lexer": "ipython3",
   "version": "3.11.3"
  }
 },
 "nbformat": 4,
 "nbformat_minor": 5
}
