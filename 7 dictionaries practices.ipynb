{
 "cells": [
  {
   "cell_type": "markdown",
   "id": "29cce90f",
   "metadata": {},
   "source": [
    "Create an empty dictionary called dog\n",
    "\n",
    "Add name, color, breed, legs, age to the dog dictionary\n",
    "\n",
    "Create a student dictionary and add first_name, last_name, gender, age, marital status, skills, country, city and address as keys for the dictionary\n",
    "\n",
    "Get the length of the student dictionary\n",
    "\n",
    "Get the value of skills and check the data type, it should be a list\n",
    "\n",
    "Modify the skills values by adding one or two skills\n",
    "\n",
    "Get the dictionary keys as a list\n",
    "\n",
    "Get the dictionary values as a list\n",
    "\n",
    "Change the dictionary to a list of tuples using items() method\n",
    "\n",
    "Delete one of the items in the dictionary\n",
    "\n",
    "Delete one of the dictionaries"
   ]
  },
  {
   "cell_type": "code",
   "execution_count": 1,
   "id": "ed69386f",
   "metadata": {},
   "outputs": [],
   "source": [
    "dog={}"
   ]
  },
  {
   "cell_type": "code",
   "execution_count": 2,
   "id": "e2aba311",
   "metadata": {},
   "outputs": [],
   "source": [
    "dog['name'] = 'Rex'\n",
    "dog['color'] = 'Black'\n",
    "dog['breed'] = 'German Shepherd'\n",
    "dog['legs'] = 4\n",
    "dog['age'] = 5\n"
   ]
  },
  {
   "cell_type": "code",
   "execution_count": 3,
   "id": "6b347305",
   "metadata": {},
   "outputs": [],
   "source": [
    "student={\n",
    "    'first_name':'siddharth',\n",
    "    'last_name':'nikam',\n",
    "    'gender':'male',\n",
    "    'martial_status':'unmarried',\n",
    "    'skills':[\"python\",\"SQL\",\"Power-Bi\"],\n",
    "    'country':'India',\n",
    "    'city':'satara'\n",
    "}"
   ]
  },
  {
   "cell_type": "code",
   "execution_count": 4,
   "id": "171a8711",
   "metadata": {},
   "outputs": [
    {
     "data": {
      "text/plain": [
       "{'first_name': 'siddharth',\n",
       " 'last_name': 'nikam',\n",
       " 'gender': 'male',\n",
       " 'martial_status': 'unmarried',\n",
       " 'skills': ['python', 'SQL', 'Power-Bi'],\n",
       " 'country': 'India',\n",
       " 'city': 'satara'}"
      ]
     },
     "execution_count": 4,
     "metadata": {},
     "output_type": "execute_result"
    }
   ],
   "source": [
    "student"
   ]
  },
  {
   "cell_type": "code",
   "execution_count": 5,
   "id": "f4da2c7e",
   "metadata": {},
   "outputs": [],
   "source": [
    "student_length = len(student)"
   ]
  },
  {
   "cell_type": "code",
   "execution_count": 6,
   "id": "a486958b",
   "metadata": {},
   "outputs": [
    {
     "data": {
      "text/plain": [
       "7"
      ]
     },
     "execution_count": 6,
     "metadata": {},
     "output_type": "execute_result"
    }
   ],
   "source": [
    "student_length"
   ]
  },
  {
   "cell_type": "code",
   "execution_count": 7,
   "id": "3bfcc1b7",
   "metadata": {},
   "outputs": [],
   "source": [
    "skills_value = student['skills']\n",
    "skills_data_type = type(skills_value)"
   ]
  },
  {
   "cell_type": "code",
   "execution_count": 8,
   "id": "afee193d",
   "metadata": {},
   "outputs": [
    {
     "data": {
      "text/plain": [
       "list"
      ]
     },
     "execution_count": 8,
     "metadata": {},
     "output_type": "execute_result"
    }
   ],
   "source": [
    "skills_data_type "
   ]
  },
  {
   "cell_type": "code",
   "execution_count": 9,
   "id": "f150f59d",
   "metadata": {},
   "outputs": [],
   "source": [
    "student['skills'].extend(['JavaScript', 'HTML'])"
   ]
  },
  {
   "cell_type": "code",
   "execution_count": 10,
   "id": "bb0b71ff",
   "metadata": {},
   "outputs": [],
   "source": [
    "keys_list = list(student.keys())"
   ]
  },
  {
   "cell_type": "code",
   "execution_count": 11,
   "id": "b9e81e6e",
   "metadata": {},
   "outputs": [],
   "source": [
    "values_list = list(student.values())"
   ]
  },
  {
   "cell_type": "code",
   "execution_count": 12,
   "id": "bfef8810",
   "metadata": {},
   "outputs": [],
   "source": [
    "list_of_tuples = list(student.items())\n"
   ]
  },
  {
   "cell_type": "code",
   "execution_count": 15,
   "id": "3956292b",
   "metadata": {},
   "outputs": [],
   "source": [
    "del student['city']"
   ]
  },
  {
   "cell_type": "code",
   "execution_count": 16,
   "id": "895fe235",
   "metadata": {},
   "outputs": [
    {
     "data": {
      "text/plain": [
       "{'first_name': 'siddharth',\n",
       " 'last_name': 'nikam',\n",
       " 'gender': 'male',\n",
       " 'martial_status': 'unmarried',\n",
       " 'skills': ['python', 'SQL', 'Power-Bi', 'JavaScript', 'HTML'],\n",
       " 'country': 'India'}"
      ]
     },
     "execution_count": 16,
     "metadata": {},
     "output_type": "execute_result"
    }
   ],
   "source": [
    "student"
   ]
  },
  {
   "cell_type": "code",
   "execution_count": 17,
   "id": "61fd0a89",
   "metadata": {},
   "outputs": [],
   "source": [
    "del dog"
   ]
  },
  {
   "cell_type": "code",
   "execution_count": null,
   "id": "576f3142",
   "metadata": {},
   "outputs": [],
   "source": []
  }
 ],
 "metadata": {
  "kernelspec": {
   "display_name": "Python 3 (ipykernel)",
   "language": "python",
   "name": "python3"
  },
  "language_info": {
   "codemirror_mode": {
    "name": "ipython",
    "version": 3
   },
   "file_extension": ".py",
   "mimetype": "text/x-python",
   "name": "python",
   "nbconvert_exporter": "python",
   "pygments_lexer": "ipython3",
   "version": "3.11.3"
  }
 },
 "nbformat": 4,
 "nbformat_minor": 5
}
