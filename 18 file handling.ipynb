{
 "cells": [
  {
   "cell_type": "markdown",
   "id": "d690fee8",
   "metadata": {},
   "source": [
    "Write a function which count number of lines and number of words in a text. \n",
    "\n",
    "All the files are in the data the folder: a) Read obama_speech.txt file and count number of lines and words \n",
    "\n",
    "b) Read michelle_obama_speech.txt file and count number of lines and words \n",
    "\n",
    "c) Read donald_speech.txt file and count number of lines and words \n",
    "\n",
    "d) Read melina_trump_speech.txt file and count number of lines and words\n",
    "\n"
   ]
  },
  {
   "cell_type": "code",
   "execution_count": null,
   "id": "1405e149",
   "metadata": {},
   "outputs": [],
   "source": [
    "import os\n",
    "\n",
    "def count_lines_and_words(filename):\n",
    "    with open(filename, 'r') as file:\n",
    "        lines = sum(1 for line in file)\n",
    "        file.seek(0)  # Reset file pointer to the beginning\n",
    "        words = sum(len(line.split()) for line in file)\n",
    "    return lines, words\n",
    "\n",
    "def main():\n",
    "    files = [\"obama_speech.txt\", \"michelle_obama_speech.txt\", \"donald_speech.txt\", \"melina_trump_speech.txt\"]\n",
    "    folder = \"data\"\n",
    "\n",
    "    for file in files:\n",
    "        filepath = os.path.join(folder, file)\n",
    "        lines, words = count_lines_and_words(filepath)\n",
    "        print(f\"File: {file}\")\n",
    "        print(f\"Number of lines: {lines}\")\n",
    "        print(f\"Number of words: {words}\")\n",
    "        print()\n",
    "\n",
    "if __name__ == \"__main__\":\n",
    "    main()\n"
   ]
  }
 ],
 "metadata": {
  "kernelspec": {
   "display_name": "Python 3 (ipykernel)",
   "language": "python",
   "name": "python3"
  },
  "language_info": {
   "codemirror_mode": {
    "name": "ipython",
    "version": 3
   },
   "file_extension": ".py",
   "mimetype": "text/x-python",
   "name": "python",
   "nbconvert_exporter": "python",
   "pygments_lexer": "ipython3",
   "version": "3.11.3"
  }
 },
 "nbformat": 4,
 "nbformat_minor": 5
}
