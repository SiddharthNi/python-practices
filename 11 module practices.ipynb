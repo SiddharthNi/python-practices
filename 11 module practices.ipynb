{
 "cells": [
  {
   "cell_type": "code",
   "execution_count": 1,
   "id": "aa4fa82e",
   "metadata": {},
   "outputs": [],
   "source": [
    "def generate_full_name(first_name,last_name):\n",
    "    return('first_name'+''+'last_name')"
   ]
  },
  {
   "cell_type": "code",
   "execution_count": null,
   "id": "edfa7bb8",
   "metadata": {},
   "outputs": [],
   "source": [
    "import mymodule\n",
    "print(mymodule.generate_full_name('siddharth','nikam'))"
   ]
  },
  {
   "cell_type": "code",
   "execution_count": null,
   "id": "e14ff82e",
   "metadata": {},
   "outputs": [],
   "source": [
    "from mymodule import generate_full_name\n",
    "print (generate_full_name('siddharth','nikam'))"
   ]
  }
 ],
 "metadata": {
  "kernelspec": {
   "display_name": "Python 3 (ipykernel)",
   "language": "python",
   "name": "python3"
  },
  "language_info": {
   "codemirror_mode": {
    "name": "ipython",
    "version": 3
   },
   "file_extension": ".py",
   "mimetype": "text/x-python",
   "name": "python",
   "nbconvert_exporter": "python",
   "pygments_lexer": "ipython3",
   "version": "3.11.3"
  }
 },
 "nbformat": 4,
 "nbformat_minor": 5
}
