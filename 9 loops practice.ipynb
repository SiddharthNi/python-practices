{
 "cells": [
  {
   "cell_type": "markdown",
   "id": "dfc42d19",
   "metadata": {},
   "source": [
    "Iterate 0 to 10 using for loop, do the same using while loop.\n",
    "\n",
    "Iterate 10 to 0 using for loop, do the same using while loop.\n"
   ]
  },
  {
   "cell_type": "code",
   "execution_count": 2,
   "id": "5c2ec51e",
   "metadata": {},
   "outputs": [
    {
     "name": "stdout",
     "output_type": "stream",
     "text": [
      "0 \n",
      "1 \n",
      "2 \n",
      "3 \n",
      "4 \n",
      "5 \n",
      "6 \n",
      "7 \n",
      "8 \n",
      "9 \n",
      "10 \n"
     ]
    }
   ],
   "source": [
    "for i in range(11):\n",
    "    print(i, end=\" \")\n",
    "    print()"
   ]
  },
  {
   "cell_type": "code",
   "execution_count": 3,
   "id": "cdc09f84",
   "metadata": {},
   "outputs": [
    {
     "name": "stdout",
     "output_type": "stream",
     "text": [
      "0 1 2 3 4 5 6 7 8 9 10 \n"
     ]
    }
   ],
   "source": [
    "i = 0\n",
    "while i <= 10:\n",
    "    print(i, end=\" \")\n",
    "    i += 1\n",
    "print()"
   ]
  },
  {
   "cell_type": "code",
   "execution_count": 4,
   "id": "3e1bae6f",
   "metadata": {},
   "outputs": [],
   "source": [
    "#Write a loop that makes seven calls to print(), so we get on the output the following triangle:\n",
    "\n",
    "  #\n",
    "  ##\n",
    "  ###\n",
    "  ####\n",
    "  #####\n",
    "  ######\n",
    "    \n",
    " "
   ]
  },
  {
   "cell_type": "code",
   "execution_count": 5,
   "id": "6e0d2f4a",
   "metadata": {},
   "outputs": [
    {
     "name": "stdout",
     "output_type": "stream",
     "text": [
      "#\n",
      "##\n",
      "###\n",
      "####\n",
      "#####\n",
      "######\n",
      "#######\n"
     ]
    }
   ],
   "source": [
    "for i in range(1, 8):\n",
    "    for j in range(i):\n",
    "        print(\"#\", end=\"\")\n",
    "    print()"
   ]
  },
  {
   "cell_type": "code",
   "execution_count": 8,
   "id": "ff16fba0",
   "metadata": {},
   "outputs": [],
   "source": [
    "#Use nested loops to create the following:\n",
    "\n",
    "# # # # # # # #\n",
    "# # # # # # # #\n",
    "# # # # # # # #\n",
    "# # # # # # # #\n",
    "# # # # # # # #\n",
    "# # # # # # # #\n",
    "# # # # # # # #\n",
    "# # # # # # # #"
   ]
  },
  {
   "cell_type": "code",
   "execution_count": 9,
   "id": "a162b5e8",
   "metadata": {},
   "outputs": [
    {
     "name": "stdout",
     "output_type": "stream",
     "text": [
      "# # # # # # # # \n",
      "# # # # # # # # \n",
      "# # # # # # # # \n",
      "# # # # # # # # \n",
      "# # # # # # # # \n",
      "# # # # # # # # \n",
      "# # # # # # # # \n",
      "# # # # # # # # \n"
     ]
    }
   ],
   "source": [
    "for i in range(8):\n",
    "    for j in range(8):\n",
    "        print(\"#\", end=\" \")\n",
    "    print()"
   ]
  },
  {
   "cell_type": "markdown",
   "id": "3c15e097",
   "metadata": {},
   "source": [
    "Print the following pattern:\n",
    "\n",
    "0 x 0 = 0\n",
    "\n",
    "1 x 1 = 1\n",
    "\n",
    "2 x 2 = 4\n",
    "\n",
    "3 x 3 = 9\n",
    "\n",
    "4 x 4 = 16\n",
    "\n",
    "5 x 5 = 25\n",
    "\n",
    "6 x 6 = 36\n",
    "\n",
    "7 x 7 = 49\n",
    "\n",
    "8 x 8 = 64\n",
    "\n",
    "9 x 9 = 81\n",
    "\n",
    "10 x 10 = 100"
   ]
  },
  {
   "cell_type": "code",
   "execution_count": 7,
   "id": "f03973b8",
   "metadata": {},
   "outputs": [
    {
     "name": "stdout",
     "output_type": "stream",
     "text": [
      "0 x 0 = 0\n",
      "1 x 1 = 1\n",
      "2 x 2 = 4\n",
      "3 x 3 = 9\n",
      "4 x 4 = 16\n",
      "5 x 5 = 25\n",
      "6 x 6 = 36\n",
      "7 x 7 = 49\n",
      "8 x 8 = 64\n",
      "9 x 9 = 81\n",
      "10 x 10 = 100\n"
     ]
    }
   ],
   "source": [
    "for i in range(11):\n",
    "    print(f\"{i} x {i} = {i*i}\")"
   ]
  },
  {
   "cell_type": "markdown",
   "id": "1bf34b9f",
   "metadata": {},
   "source": [
    "Iterate through the list, ['Python', 'Numpy','Pandas','Django', 'Flask'] using a for loop and print out the items."
   ]
  },
  {
   "cell_type": "code",
   "execution_count": 1,
   "id": "a95fff87",
   "metadata": {},
   "outputs": [
    {
     "name": "stdout",
     "output_type": "stream",
     "text": [
      "Python\n",
      "Numpy\n",
      "Pandas\n",
      "Django\n",
      "Flask\n"
     ]
    }
   ],
   "source": [
    "languages = ['Python', 'Numpy', 'Pandas', 'Django', 'Flask']\n",
    "for language in languages:\n",
    "    print(language)"
   ]
  },
  {
   "cell_type": "markdown",
   "id": "6a3dfd54",
   "metadata": {},
   "source": [
    "Use for loop to iterate from 0 to 100 and print only even numbers"
   ]
  },
  {
   "cell_type": "code",
   "execution_count": 3,
   "id": "8520dce8",
   "metadata": {},
   "outputs": [
    {
     "name": "stdout",
     "output_type": "stream",
     "text": [
      "0 \n",
      "2 \n",
      "4 \n",
      "6 \n",
      "8 \n",
      "10 \n",
      "12 \n",
      "14 \n",
      "16 \n",
      "18 \n",
      "20 \n",
      "22 \n",
      "24 \n",
      "26 \n",
      "28 \n",
      "30 \n",
      "32 \n",
      "34 \n",
      "36 \n",
      "38 \n",
      "40 \n",
      "42 \n",
      "44 \n",
      "46 \n",
      "48 \n",
      "50 \n",
      "52 \n",
      "54 \n",
      "56 \n",
      "58 \n",
      "60 \n",
      "62 \n",
      "64 \n",
      "66 \n",
      "68 \n",
      "70 \n",
      "72 \n",
      "74 \n",
      "76 \n",
      "78 \n",
      "80 \n",
      "82 \n",
      "84 \n",
      "86 \n",
      "88 \n",
      "90 \n",
      "92 \n",
      "94 \n",
      "96 \n",
      "98 \n"
     ]
    }
   ],
   "source": [
    "for i in range(0,100,2):\n",
    "    print(i,end=\" \")\n",
    "    print()"
   ]
  },
  {
   "cell_type": "code",
   "execution_count": 5,
   "id": "7ab7c606",
   "metadata": {},
   "outputs": [
    {
     "name": "stdout",
     "output_type": "stream",
     "text": [
      "1 \n",
      "3 \n",
      "5 \n",
      "7 \n",
      "9 \n",
      "11 \n",
      "13 \n",
      "15 \n",
      "17 \n",
      "19 \n",
      "21 \n",
      "23 \n",
      "25 \n",
      "27 \n",
      "29 \n",
      "31 \n",
      "33 \n",
      "35 \n",
      "37 \n",
      "39 \n",
      "41 \n",
      "43 \n",
      "45 \n",
      "47 \n",
      "49 \n",
      "51 \n",
      "53 \n",
      "55 \n",
      "57 \n",
      "59 \n",
      "61 \n",
      "63 \n",
      "65 \n",
      "67 \n",
      "69 \n",
      "71 \n",
      "73 \n",
      "75 \n",
      "77 \n",
      "79 \n",
      "81 \n",
      "83 \n",
      "85 \n",
      "87 \n",
      "89 \n",
      "91 \n",
      "93 \n",
      "95 \n",
      "97 \n",
      "99 \n"
     ]
    }
   ],
   "source": [
    "for i in range(1,101,2):\n",
    "    print(i, end=\" \")\n",
    "    print()"
   ]
  },
  {
   "cell_type": "markdown",
   "id": "ef677d39",
   "metadata": {},
   "source": [
    "Use for loop to iterate from 0 to 100 and print the sum of all numbers.\n",
    "\n",
    "The sum of all numbers is 5050."
   ]
  },
  {
   "cell_type": "code",
   "execution_count": 6,
   "id": "7be275a9",
   "metadata": {},
   "outputs": [
    {
     "name": "stdout",
     "output_type": "stream",
     "text": [
      "The sum of all numbers is: 5050\n"
     ]
    }
   ],
   "source": [
    "total_sum = 0\n",
    "for i in range(101):\n",
    "    total_sum += i\n",
    "print(\"The sum of all numbers is:\", total_sum)"
   ]
  },
  {
   "cell_type": "markdown",
   "id": "093604a4",
   "metadata": {},
   "source": [
    "Use for loop to iterate from 0 to 100 and print the sum of all evens and the sum of all odds.\n",
    "\n",
    "The sum of all evens is 2550. And the sum of all odds is 2500."
   ]
  },
  {
   "cell_type": "code",
   "execution_count": 9,
   "id": "096163f3",
   "metadata": {},
   "outputs": [
    {
     "name": "stdout",
     "output_type": "stream",
     "text": [
      "The sum of all evens is: 2550\n",
      "The sum of all odds is: 2500\n"
     ]
    }
   ],
   "source": [
    "even_sum = 0\n",
    "odd_sum = 0\n",
    "for i in range(101):\n",
    "    if i % 2 == 0:\n",
    "        even_sum += i\n",
    "    else:\n",
    "        odd_sum += i\n",
    "\n",
    "print(\"The sum of all evens is:\", even_sum)\n",
    "print(\"The sum of all odds is:\", odd_sum)"
   ]
  }
 ],
 "metadata": {
  "kernelspec": {
   "display_name": "Python 3 (ipykernel)",
   "language": "python",
   "name": "python3"
  },
  "language_info": {
   "codemirror_mode": {
    "name": "ipython",
    "version": 3
   },
   "file_extension": ".py",
   "mimetype": "text/x-python",
   "name": "python",
   "nbconvert_exporter": "python",
   "pygments_lexer": "ipython3",
   "version": "3.11.3"
  }
 },
 "nbformat": 4,
 "nbformat_minor": 5
}
