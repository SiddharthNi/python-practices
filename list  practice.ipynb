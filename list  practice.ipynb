{
 "cells": [
  {
   "cell_type": "markdown",
   "id": "e9226a92",
   "metadata": {},
   "source": [
    "Declare an empty list"
   ]
  },
  {
   "cell_type": "code",
   "execution_count": 1,
   "id": "21c46ca9",
   "metadata": {},
   "outputs": [],
   "source": [
    "siddharth=[]"
   ]
  },
  {
   "cell_type": "code",
   "execution_count": 2,
   "id": "80021fa9",
   "metadata": {},
   "outputs": [
    {
     "data": {
      "text/plain": [
       "[]"
      ]
     },
     "execution_count": 2,
     "metadata": {},
     "output_type": "execute_result"
    }
   ],
   "source": [
    "siddharth"
   ]
  },
  {
   "cell_type": "markdown",
   "id": "efcb32a3",
   "metadata": {},
   "source": [
    "Declare a list with more than 5 items"
   ]
  },
  {
   "cell_type": "code",
   "execution_count": 3,
   "id": "f2e80473",
   "metadata": {},
   "outputs": [],
   "source": [
    "fruits = ['banana', 'orange', 'mango', 'lemon','apple']"
   ]
  },
  {
   "cell_type": "code",
   "execution_count": 4,
   "id": "cef0d30e",
   "metadata": {},
   "outputs": [
    {
     "data": {
      "text/plain": [
       "['banana', 'orange', 'mango', 'lemon', 'apple']"
      ]
     },
     "execution_count": 4,
     "metadata": {},
     "output_type": "execute_result"
    }
   ],
   "source": [
    "fruits"
   ]
  },
  {
   "cell_type": "markdown",
   "id": "aab62c8b",
   "metadata": {},
   "source": [
    "Find the length of your list\n",
    "\n"
   ]
  },
  {
   "cell_type": "code",
   "execution_count": 5,
   "id": "c8714b33",
   "metadata": {},
   "outputs": [
    {
     "name": "stdout",
     "output_type": "stream",
     "text": [
      "5\n"
     ]
    }
   ],
   "source": [
    "print(len(fruits))"
   ]
  },
  {
   "cell_type": "markdown",
   "id": "b83163f2",
   "metadata": {},
   "source": [
    "Declare a list called mixed_data_types, put your(name, age, height, marital status, address)"
   ]
  },
  {
   "cell_type": "code",
   "execution_count": 6,
   "id": "79cc8d70",
   "metadata": {},
   "outputs": [],
   "source": [
    "mixed_data_types= [\"siddharthn\",\"23\",\"5.8\",\"unmarried\",\"satara\"]"
   ]
  },
  {
   "cell_type": "code",
   "execution_count": 10,
   "id": "fd79220d",
   "metadata": {},
   "outputs": [
    {
     "name": "stdout",
     "output_type": "stream",
     "text": [
      "['siddharthn', '23', '5.8', 'unmarried', 'satara']\n"
     ]
    }
   ],
   "source": [
    "print(mixed_data_types)"
   ]
  },
  {
   "cell_type": "markdown",
   "id": "f4004789",
   "metadata": {},
   "source": [
    "The following is a list of 10 students ages:\n",
    "    \n",
    "ages = [19, 22, 19, 24, 20, 25, 26, 24, 25, 24]\n",
    "\n",
    "Sort the list and find the min and max age\n",
    "\n",
    "Add the min age and the max age again to the list\n",
    "\n",
    "Find the median age (one middle item or two middle items divided by two)\n",
    "\n",
    "Find the average age (sum of all items divided by their number )\n",
    "\n",
    "Find the range of the ages (max minus min)\n",
    "\n",
    "Compare the value of (min - average) and (max - average), use abs() method"
   ]
  },
  {
   "cell_type": "code",
   "execution_count": 11,
   "id": "3cf18d1c",
   "metadata": {},
   "outputs": [],
   "source": [
    "ages = [19, 22, 19, 24, 20, 25, 26, 24, 25, 24]"
   ]
  },
  {
   "cell_type": "code",
   "execution_count": 12,
   "id": "3dde2909",
   "metadata": {},
   "outputs": [],
   "source": [
    "ages.sort()"
   ]
  },
  {
   "cell_type": "code",
   "execution_count": 18,
   "id": "2047dc31",
   "metadata": {},
   "outputs": [
    {
     "name": "stdout",
     "output_type": "stream",
     "text": [
      "Sorted ages: [19, 19, 20, 22, 24, 24, 24, 25, 25, 26, 19, 26]\n"
     ]
    }
   ],
   "source": [
    "print(\"Sorted ages:\", ages)"
   ]
  },
  {
   "cell_type": "code",
   "execution_count": 13,
   "id": "6e177d1c",
   "metadata": {},
   "outputs": [],
   "source": [
    "min_age = ages[0]\n",
    "max_age = ages[-1]"
   ]
  },
  {
   "cell_type": "code",
   "execution_count": 19,
   "id": "470144d5",
   "metadata": {},
   "outputs": [
    {
     "name": "stdout",
     "output_type": "stream",
     "text": [
      "Min age: 19\n",
      "Max age: 26\n"
     ]
    }
   ],
   "source": [
    "print(\"Min age:\", min_age)\n",
    "print(\"Max age:\", max_age)"
   ]
  },
  {
   "cell_type": "code",
   "execution_count": 14,
   "id": "2c8b95ca",
   "metadata": {},
   "outputs": [],
   "source": [
    "ages.extend([min_age, max_age])\n"
   ]
  },
  {
   "cell_type": "code",
   "execution_count": 15,
   "id": "44733c25",
   "metadata": {},
   "outputs": [],
   "source": [
    "n = len(ages)\n",
    "if n % 2 == 0:\n",
    "    median_age = (ages[n // 2 - 1] + ages[n // 2]) / 2\n",
    "else:\n",
    "    median_age = ages[n // 2]"
   ]
  },
  {
   "cell_type": "code",
   "execution_count": 24,
   "id": "37b9ac7c",
   "metadata": {},
   "outputs": [],
   "source": [
    "average_age = sum(ages) / len(ages)"
   ]
  },
  {
   "cell_type": "code",
   "execution_count": 25,
   "id": "90a41fe0",
   "metadata": {},
   "outputs": [
    {
     "name": "stdout",
     "output_type": "stream",
     "text": [
      "Median_age: 24.0\n"
     ]
    }
   ],
   "source": [
    "print(\"Median_age:\", median_age)\n"
   ]
  },
  {
   "cell_type": "code",
   "execution_count": 26,
   "id": "5b279c81",
   "metadata": {},
   "outputs": [],
   "source": [
    "age_range = max_age - min_age\n"
   ]
  },
  {
   "cell_type": "code",
   "execution_count": 28,
   "id": "44263f8c",
   "metadata": {},
   "outputs": [],
   "source": [
    "min_diff = abs(min_age - average_age)\n",
    "max_diff = abs(max_age - average_age)"
   ]
  },
  {
   "cell_type": "code",
   "execution_count": 29,
   "id": "2cb4b91e",
   "metadata": {},
   "outputs": [
    {
     "name": "stdout",
     "output_type": "stream",
     "text": [
      "Average age: 22.75\n",
      "Range of ages: 7\n",
      "Difference between min and average age: 3.75\n",
      "Difference between max and average age: 3.25\n"
     ]
    }
   ],
   "source": [
    "print(\"Average age:\", average_age)\n",
    "print(\"Range of ages:\", age_range)\n",
    "print(\"Difference between min and average age:\", min_diff)\n",
    "print(\"Difference between max and average age:\", max_diff)"
   ]
  }
 ],
 "metadata": {
  "kernelspec": {
   "display_name": "Python 3 (ipykernel)",
   "language": "python",
   "name": "python3"
  },
  "language_info": {
   "codemirror_mode": {
    "name": "ipython",
    "version": 3
   },
   "file_extension": ".py",
   "mimetype": "text/x-python",
   "name": "python",
   "nbconvert_exporter": "python",
   "pygments_lexer": "ipython3",
   "version": "3.11.3"
  }
 },
 "nbformat": 4,
 "nbformat_minor": 5
}
