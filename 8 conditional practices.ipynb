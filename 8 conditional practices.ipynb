{
 "cells": [
  {
   "cell_type": "markdown",
   "id": "0ec92e7b",
   "metadata": {},
   "source": [
    "Get user input using input(“Enter your age: ”).\n",
    "\n",
    "If user is 18 or older, give feedback: You are old enough to drive. \n",
    "    \n",
    "If below 18 give feedback to wait for the missing amount of years.\n",
    "\n",
    "   \n",
    "Output:\n",
    "Enter your age: 30\n",
    "    \n",
    "You are old enough to learn to drive.\n",
    "\n",
    "Output:\n",
    "Enter your age: 15\n",
    "\n",
    "You need 3 more years to learn to drive."
   ]
  },
  {
   "cell_type": "code",
   "execution_count": 3,
   "id": "80c500f0",
   "metadata": {},
   "outputs": [
    {
     "name": "stdout",
     "output_type": "stream",
     "text": [
      "Enter your age: 30\n",
      "You are old enough to learn to drive.\n"
     ]
    }
   ],
   "source": [
    "age = int(input(\"Enter your age: \"))\n",
    "if age >= 18:\n",
    "    print(\"You are old enough to learn to drive.\")\n",
    "else:\n",
    "    years_to_wait = 18 - age\n",
    "    print(f\"You need {years_to_wait} more years to learn to drive.\")\n"
   ]
  },
  {
   "cell_type": "code",
   "execution_count": 5,
   "id": "7932db00",
   "metadata": {},
   "outputs": [
    {
     "name": "stdout",
     "output_type": "stream",
     "text": [
      "Enter Your age: 15\n",
      "you need 3 more years to learn to drive.\n"
     ]
    }
   ],
   "source": [
    "age = int(input(\"Enter Your age: \"))\n",
    "if age >= 18:\n",
    "    print(\"you are old enough to learn to drive.\")\n",
    "else: \n",
    "    years_to_wait = 18-age \n",
    "    print(f\"you need {years_to_wait} more years to learn to drive.\")"
   ]
  },
  {
   "cell_type": "markdown",
   "id": "54050263",
   "metadata": {},
   "source": [
    "Compare the values of my_age and your_age using if … else.\n",
    "\n",
    "Who is older (me or you)? Use input(“Enter your age: ”) to get the age as input. \n",
    "\n",
    "You can use a nested condition to print 'year' for 1 year difference in age, 'years' for bigger differences, and a custom text if my_age = your_age. \n",
    "\n",
    "Output:\n",
    "    \n",
    "Enter your age: 30\n",
    "    \n",
    "You are 5 years older than me."
   ]
  },
  {
   "cell_type": "code",
   "execution_count": 6,
   "id": "fd92c330",
   "metadata": {},
   "outputs": [
    {
     "name": "stdout",
     "output_type": "stream",
     "text": [
      "Enter Your age:24\n",
      "you are older than me.\n"
     ]
    }
   ],
   "source": [
    "your_age = int(input(\"Enter Your age:\"))\n",
    "if your_age>= 23:\n",
    "    print(\"you are older than me.\")\n",
    "else:\n",
    "    my_age= 23-your_age\n",
    "    print(f\"you need{my_age} years to older than me\")"
   ]
  },
  {
   "cell_type": "code",
   "execution_count": 7,
   "id": "6095bb67",
   "metadata": {},
   "outputs": [
    {
     "name": "stdout",
     "output_type": "stream",
     "text": [
      "Enter Your age:20\n",
      "you need3 years to older than me\n"
     ]
    }
   ],
   "source": [
    "your_age = int(input(\"Enter Your age:\"))\n",
    "if your_age>= 23:\n",
    "    print(\"you are older than me.\")\n",
    "else:\n",
    "    my_age= 23-your_age\n",
    "    print(f\"you need{my_age} years to older than me\")"
   ]
  },
  {
   "cell_type": "markdown",
   "id": "592ab845",
   "metadata": {},
   "source": [
    "Get two numbers from the user using input prompt. \n",
    "\n",
    "If a is greater than b return a is greater than b, if a is less b return a is smaller than b, else a is equal to b. \n",
    "\n",
    "Output:\n",
    "\n",
    "Enter number one: 4\n",
    "    \n",
    "Enter number two: 3\n",
    "    \n",
    "4 is greater than 3"
   ]
  },
  {
   "cell_type": "code",
   "execution_count": 8,
   "id": "ad086424",
   "metadata": {},
   "outputs": [
    {
     "name": "stdout",
     "output_type": "stream",
     "text": [
      "Enter Number one:4\n",
      "Enter Number two:3\n",
      "4 is greater than 3.\n"
     ]
    }
   ],
   "source": [
    "a= int(input(\"Enter Number one:\"))\n",
    "b= int(input(\"Enter Number two:\"))\n",
    "if a>b:\n",
    "    print(f\"{a} is greater than {b}.\")\n",
    "elif a < b:\n",
    "    print(f\"{a} is smaller than {b}.\")\n",
    "else:\n",
    "    print(f\"{a} is equal to {b}.\")"
   ]
  },
  {
   "cell_type": "code",
   "execution_count": null,
   "id": "66b34832",
   "metadata": {},
   "outputs": [],
   "source": []
  },
  {
   "cell_type": "code",
   "execution_count": null,
   "id": "e8e43127",
   "metadata": {},
   "outputs": [],
   "source": []
  },
  {
   "cell_type": "code",
   "execution_count": null,
   "id": "5045bfbd",
   "metadata": {},
   "outputs": [],
   "source": []
  }
 ],
 "metadata": {
  "kernelspec": {
   "display_name": "Python 3 (ipykernel)",
   "language": "python",
   "name": "python3"
  },
  "language_info": {
   "codemirror_mode": {
    "name": "ipython",
    "version": 3
   },
   "file_extension": ".py",
   "mimetype": "text/x-python",
   "name": "python",
   "nbconvert_exporter": "python",
   "pygments_lexer": "ipython3",
   "version": "3.11.3"
  }
 },
 "nbformat": 4,
 "nbformat_minor": 5
}
