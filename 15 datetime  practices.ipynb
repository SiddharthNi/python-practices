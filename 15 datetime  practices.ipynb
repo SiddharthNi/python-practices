{
 "cells": [
  {
   "cell_type": "markdown",
   "id": "143cdb72",
   "metadata": {},
   "source": [
    "get the current day, month, year, hour, minute and timestamp from datetime module\n",
    "\n",
    "Format the current date using this format: \"%m/%d/%Y, %H:%M:%S\")\n"
   ]
  },
  {
   "cell_type": "code",
   "execution_count": 1,
   "id": "07a1f5fa",
   "metadata": {},
   "outputs": [],
   "source": [
    "from datetime import datetime, timedelta\n",
    "now = datetime.now()\n",
    "current_day = now.day\n",
    "current_month = now.month\n",
    "current_year = now.year\n",
    "current_hour = now.hour\n",
    "current_minute = now.minute\n",
    "current_timestamp = now.timestamp()"
   ]
  },
  {
   "cell_type": "code",
   "execution_count": 2,
   "id": "2d652d06",
   "metadata": {},
   "outputs": [
    {
     "name": "stdout",
     "output_type": "stream",
     "text": [
      "Formatted current date and time: 03/27/2024, 13:43:17\n"
     ]
    }
   ],
   "source": [
    "formatted_current_date = now.strftime(\"%m/%d/%Y, %H:%M:%S\")\n",
    "print(\"Formatted current date and time:\", formatted_current_date)"
   ]
  },
  {
   "cell_type": "markdown",
   "id": "cb3eddca",
   "metadata": {},
   "source": [
    "Today is 5 December, 2019. Change this time string to time."
   ]
  },
  {
   "cell_type": "code",
   "execution_count": 3,
   "id": "6e7d06ad",
   "metadata": {},
   "outputs": [],
   "source": [
    "time_string = \"5 December, 2019\"\n",
    "time_obj = datetime.strptime(time_string, \"%d %B, %Y\")"
   ]
  },
  {
   "cell_type": "markdown",
   "id": "0e9fbee7",
   "metadata": {},
   "source": [
    "Calculate time difference between now and new year\n"
   ]
  },
  {
   "cell_type": "code",
   "execution_count": 4,
   "id": "10b7e986",
   "metadata": {},
   "outputs": [
    {
     "name": "stdout",
     "output_type": "stream",
     "text": [
      "Time difference until New Year: 279 days, 10:16:42.968951\n"
     ]
    }
   ],
   "source": [
    "new_year = datetime(now.year + 1, 1, 1)\n",
    "time_until_new_year = new_year - now\n",
    "print(\"Time difference until New Year:\", time_until_new_year)"
   ]
  },
  {
   "cell_type": "markdown",
   "id": "7c933adc",
   "metadata": {},
   "source": [
    "Calculate the time difference between 1 January 1970 and now."
   ]
  },
  {
   "cell_type": "code",
   "execution_count": 5,
   "id": "24826242",
   "metadata": {},
   "outputs": [
    {
     "name": "stdout",
     "output_type": "stream",
     "text": [
      "Time difference since 1 January 1970: 19809 days, 13:43:17.031049\n"
     ]
    }
   ],
   "source": [
    "time_since_epoch = now - datetime(1970, 1, 1)\n",
    "print(\"Time difference since 1 January 1970:\", time_since_epoch)\n"
   ]
  }
 ],
 "metadata": {
  "kernelspec": {
   "display_name": "Python 3 (ipykernel)",
   "language": "python",
   "name": "python3"
  },
  "language_info": {
   "codemirror_mode": {
    "name": "ipython",
    "version": 3
   },
   "file_extension": ".py",
   "mimetype": "text/x-python",
   "name": "python",
   "nbconvert_exporter": "python",
   "pygments_lexer": "ipython3",
   "version": "3.11.3"
  }
 },
 "nbformat": 4,
 "nbformat_minor": 5
}
