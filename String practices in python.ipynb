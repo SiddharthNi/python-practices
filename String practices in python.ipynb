{
 "cells": [
  {
   "cell_type": "markdown",
   "id": "3863ae6b",
   "metadata": {},
   "source": [
    "Concatenate the string 'Thirty', 'Days', 'Of', 'Python' to a single string, 'Thirty Days Of Python'."
   ]
  },
  {
   "cell_type": "code",
   "execution_count": 6,
   "id": "4de1fe73",
   "metadata": {},
   "outputs": [],
   "source": [
    "string1 = 'Thirty'\n",
    "string2 = 'Days'\n",
    "string3 = 'Of'\n",
    "string4 = 'Python'\n"
   ]
  },
  {
   "cell_type": "code",
   "execution_count": 7,
   "id": "e606fa18",
   "metadata": {},
   "outputs": [
    {
     "name": "stdout",
     "output_type": "stream",
     "text": [
      "Thirty Days Of Python\n"
     ]
    }
   ],
   "source": [
    "concatenated_string1 = string1 + ' ' + string2 + ' ' + string3 + ' ' + string4\n",
    "print(concatenated_string1)"
   ]
  },
  {
   "cell_type": "markdown",
   "id": "127ed971",
   "metadata": {},
   "source": [
    "Concatenate the string 'Coding', 'For' , 'All' to a single string, 'Coding For All'."
   ]
  },
  {
   "cell_type": "code",
   "execution_count": 8,
   "id": "36053de6",
   "metadata": {},
   "outputs": [],
   "source": [
    "string1= 'Coding'\n",
    "string2= 'for'\n",
    "string3= 'all'"
   ]
  },
  {
   "cell_type": "code",
   "execution_count": 9,
   "id": "0fc89178",
   "metadata": {},
   "outputs": [],
   "source": [
    "concatenated_string1 = string1 + ' ' + string2 + ' ' + string3"
   ]
  },
  {
   "cell_type": "code",
   "execution_count": 10,
   "id": "09d80a02",
   "metadata": {},
   "outputs": [
    {
     "name": "stdout",
     "output_type": "stream",
     "text": [
      "Coding for all\n"
     ]
    }
   ],
   "source": [
    "print(concatenated_string1)"
   ]
  },
  {
   "cell_type": "markdown",
   "id": "a0323a63",
   "metadata": {},
   "source": [
    "Print the variable company using print().\n",
    "\n",
    "Print the length of the company string using len() method and print().\n",
    "\n",
    "Change all the characters to uppercase letters using upper() method.\n",
    "\n",
    "Change all the characters to lowercase letters using lower() method.\n",
    "\n",
    "Use capitalize(), title(), swapcase() methods to format the value of the string Coding For All.\n",
    "\n",
    "Cut(slice) out the first word of Coding For All string.\n",
    "\n",
    "Check if Coding For All string contains a word Coding using the method index, find or other methods.\n",
    "\n",
    "Replace the word coding in the string 'Coding For All' to Python.\n",
    "\n",
    "Change Python for Everyone to Python for All using the replace method or other methods.\n",
    "\n",
    "Split the string 'Coding For All' using space as the separator (split()) .\n",
    "\n",
    "\"Facebook, Google, Microsoft, Apple, IBM, Oracle, Amazon\" split the string at the comma.\n",
    "\n",
    "What is the character at index 0 in the string Coding For All.\n",
    "\n",
    "What is the last index of the string Coding For All.\n",
    "\n",
    "What character is at index 10 in \"Coding For All\" string.\n",
    "\n",
    "Create an acronym or an abbreviation for the name 'Python For Everyone'.\n",
    "\n",
    "Create an acronym or an abbreviation for the name 'Coding For All'.\n",
    "\n",
    "Use index to determine the position of the first occurrence of C in Coding For All.\n",
    "\n",
    "Use index to determine the position of the first occurrence of F in Coding For All.\n"
   ]
  },
  {
   "cell_type": "code",
   "execution_count": 11,
   "id": "5fb669f0",
   "metadata": {},
   "outputs": [
    {
     "name": "stdout",
     "output_type": "stream",
     "text": [
      "Coding For All\n"
     ]
    }
   ],
   "source": [
    "company = \"Coding For All\"\n",
    "print(company)\n"
   ]
  },
  {
   "cell_type": "code",
   "execution_count": 12,
   "id": "a39a2836",
   "metadata": {},
   "outputs": [
    {
     "name": "stdout",
     "output_type": "stream",
     "text": [
      "14\n"
     ]
    }
   ],
   "source": [
    "print(len(company))"
   ]
  },
  {
   "cell_type": "code",
   "execution_count": 14,
   "id": "ad279f3c",
   "metadata": {},
   "outputs": [
    {
     "name": "stdout",
     "output_type": "stream",
     "text": [
      "CODING FOR ALL\n"
     ]
    }
   ],
   "source": [
    "print(company.upper())"
   ]
  },
  {
   "cell_type": "code",
   "execution_count": 15,
   "id": "f9ed2770",
   "metadata": {},
   "outputs": [
    {
     "name": "stdout",
     "output_type": "stream",
     "text": [
      "coding for all\n"
     ]
    }
   ],
   "source": [
    "print(company.lower())"
   ]
  },
  {
   "cell_type": "code",
   "execution_count": 16,
   "id": "6953b4a2",
   "metadata": {},
   "outputs": [
    {
     "name": "stdout",
     "output_type": "stream",
     "text": [
      "Coding for all\n"
     ]
    }
   ],
   "source": [
    "print(company.capitalize())\n"
   ]
  },
  {
   "cell_type": "code",
   "execution_count": 17,
   "id": "59a1a9ac",
   "metadata": {},
   "outputs": [
    {
     "name": "stdout",
     "output_type": "stream",
     "text": [
      "Coding For All\n"
     ]
    }
   ],
   "source": [
    "print(company.title())\n"
   ]
  },
  {
   "cell_type": "code",
   "execution_count": 18,
   "id": "d9016d22",
   "metadata": {},
   "outputs": [
    {
     "name": "stdout",
     "output_type": "stream",
     "text": [
      "cODING fOR aLL\n"
     ]
    }
   ],
   "source": [
    "print(company.swapcase())"
   ]
  },
  {
   "cell_type": "code",
   "execution_count": 19,
   "id": "743edac8",
   "metadata": {},
   "outputs": [
    {
     "name": "stdout",
     "output_type": "stream",
     "text": [
      "Coding\n"
     ]
    }
   ],
   "source": [
    "first_word = company.split()[0]\n",
    "print(first_word)"
   ]
  },
  {
   "cell_type": "code",
   "execution_count": 20,
   "id": "749ff5df",
   "metadata": {},
   "outputs": [
    {
     "name": "stdout",
     "output_type": "stream",
     "text": [
      "True\n"
     ]
    }
   ],
   "source": [
    "print('Coding' in company)\n"
   ]
  },
  {
   "cell_type": "code",
   "execution_count": 22,
   "id": "3303a607",
   "metadata": {},
   "outputs": [
    {
     "name": "stdout",
     "output_type": "stream",
     "text": [
      "Python For All\n"
     ]
    }
   ],
   "source": [
    "print(company.replace('Coding', 'Python'))"
   ]
  },
  {
   "cell_type": "code",
   "execution_count": 23,
   "id": "532afb4c",
   "metadata": {},
   "outputs": [
    {
     "name": "stdout",
     "output_type": "stream",
     "text": [
      "['Coding', 'For', 'All']\n",
      "['Facebook', 'Google', 'Microsoft', 'Apple', 'IBM', 'Oracle', 'Amazon']\n"
     ]
    }
   ],
   "source": [
    "print(company.split())\n",
    "print(\"Facebook, Google, Microsoft, Apple, IBM, Oracle, Amazon\".split(', '))"
   ]
  },
  {
   "cell_type": "code",
   "execution_count": 24,
   "id": "9c5d5c9c",
   "metadata": {},
   "outputs": [
    {
     "name": "stdout",
     "output_type": "stream",
     "text": [
      "C\n",
      "l\n",
      " \n"
     ]
    }
   ],
   "source": [
    "print(company[0])\n",
    "print(company[-1])\n",
    "print(company[10])"
   ]
  },
  {
   "cell_type": "code",
   "execution_count": 25,
   "id": "13b5e9d1",
   "metadata": {},
   "outputs": [
    {
     "name": "stdout",
     "output_type": "stream",
     "text": [
      "PFE\n"
     ]
    }
   ],
   "source": [
    "acronym1 = ''.join(word[0].upper() for word in \"Python For Everyone\".split())\n",
    "print(acronym1)"
   ]
  },
  {
   "cell_type": "code",
   "execution_count": 26,
   "id": "1130726c",
   "metadata": {},
   "outputs": [
    {
     "name": "stdout",
     "output_type": "stream",
     "text": [
      "CFA\n"
     ]
    }
   ],
   "source": [
    "acronym2 = ''.join(word[0].upper() for word in \"Coding For All\".split())\n",
    "print(acronym2)\n"
   ]
  },
  {
   "cell_type": "code",
   "execution_count": 28,
   "id": "49939383",
   "metadata": {},
   "outputs": [
    {
     "name": "stdout",
     "output_type": "stream",
     "text": [
      "0\n",
      "7\n"
     ]
    }
   ],
   "source": [
    "print(company.index('C'))\n",
    "print(company.index('F'))\n"
   ]
  },
  {
   "cell_type": "code",
   "execution_count": null,
   "id": "bee8b941",
   "metadata": {},
   "outputs": [],
   "source": []
  }
 ],
 "metadata": {
  "kernelspec": {
   "display_name": "Python 3 (ipykernel)",
   "language": "python",
   "name": "python3"
  },
  "language_info": {
   "codemirror_mode": {
    "name": "ipython",
    "version": 3
   },
   "file_extension": ".py",
   "mimetype": "text/x-python",
   "name": "python",
   "nbconvert_exporter": "python",
   "pygments_lexer": "ipython3",
   "version": "3.11.3"
  }
 },
 "nbformat": 4,
 "nbformat_minor": 5
}
