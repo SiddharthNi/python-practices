{
 "cells": [
  {
   "cell_type": "markdown",
   "id": "48d903bc",
   "metadata": {},
   "source": [
    "Declare your age as integer variable"
   ]
  },
  {
   "cell_type": "code",
   "execution_count": 2,
   "id": "9c87abe3",
   "metadata": {},
   "outputs": [],
   "source": [
    "age= 23"
   ]
  },
  {
   "cell_type": "code",
   "execution_count": 3,
   "id": "17d3c111",
   "metadata": {},
   "outputs": [
    {
     "data": {
      "text/plain": [
       "23"
      ]
     },
     "execution_count": 3,
     "metadata": {},
     "output_type": "execute_result"
    }
   ],
   "source": [
    "age"
   ]
  },
  {
   "cell_type": "markdown",
   "id": "ebaf790c",
   "metadata": {},
   "source": [
    "Declare your height as a float variable"
   ]
  },
  {
   "cell_type": "code",
   "execution_count": 4,
   "id": "c88c9d42",
   "metadata": {},
   "outputs": [],
   "source": [
    "height= 9.81"
   ]
  },
  {
   "cell_type": "code",
   "execution_count": 5,
   "id": "0eaf61a6",
   "metadata": {},
   "outputs": [
    {
     "name": "stdout",
     "output_type": "stream",
     "text": [
      "floating number of height: 9.81\n"
     ]
    }
   ],
   "source": [
    "print('floating number of height:',height)"
   ]
  },
  {
   "cell_type": "markdown",
   "id": "50838d7d",
   "metadata": {},
   "source": [
    "Declare a variable that store a complex number"
   ]
  },
  {
   "cell_type": "code",
   "execution_count": 6,
   "id": "e0f354cc",
   "metadata": {},
   "outputs": [],
   "source": [
    "complex_number= 1+1j"
   ]
  },
  {
   "cell_type": "code",
   "execution_count": 8,
   "id": "489c06a3",
   "metadata": {},
   "outputs": [
    {
     "name": "stdout",
     "output_type": "stream",
     "text": [
      "storing variables complex number: (1+1j)\n"
     ]
    }
   ],
   "source": [
    "print('storing variables complex number:',complex_number)"
   ]
  },
  {
   "cell_type": "markdown",
   "id": "36284aa9",
   "metadata": {},
   "source": [
    "Write a script that prompts the user to enter base and height of the triangle and calculate an area of this triangle (area = 0.5 x b x h).\n",
    "    Enter base: 20\n",
    "    Enter height: 10\n",
    "    The area of the triangle is 100"
   ]
  },
  {
   "cell_type": "code",
   "execution_count": 9,
   "id": "0d82871d",
   "metadata": {},
   "outputs": [],
   "source": [
    "b=20\n",
    "h=10"
   ]
  },
  {
   "cell_type": "code",
   "execution_count": 12,
   "id": "a3310c72",
   "metadata": {},
   "outputs": [
    {
     "name": "stdout",
     "output_type": "stream",
     "text": [
      "area= 100.0\n"
     ]
    }
   ],
   "source": [
    "print('area=',0.5*(b)*(h))"
   ]
  },
  {
   "cell_type": "markdown",
   "id": "37cd0f60",
   "metadata": {},
   "source": [
    "Write a script that prompts the user to enter side a, side b, and side c of the triangle. Calculate the perimeter of the triangle (perimeter = a + b + c).\n",
    "\n",
    "Enter side a: 5\n",
    "\n",
    "Enter side b: 4\n",
    "\n",
    "Enter side c: 3\n",
    "\n",
    "The perimeter of the triangle is 12"
   ]
  },
  {
   "cell_type": "code",
   "execution_count": 13,
   "id": "4dccd4bf",
   "metadata": {},
   "outputs": [],
   "source": [
    "a=5\n",
    "b=4\n",
    "c=3"
   ]
  },
  {
   "cell_type": "code",
   "execution_count": 14,
   "id": "24b47adc",
   "metadata": {},
   "outputs": [
    {
     "name": "stdout",
     "output_type": "stream",
     "text": [
      "perimeter= 12\n"
     ]
    }
   ],
   "source": [
    "print('perimeter=',(a)+(b)+(c))"
   ]
  },
  {
   "cell_type": "markdown",
   "id": "f9e2f545",
   "metadata": {},
   "source": [
    "Get length and width of a rectangle using prompt. Calculate its area (area = length x width) and perimeter (perimeter = 2 x (length + width))"
   ]
  },
  {
   "cell_type": "code",
   "execution_count": 15,
   "id": "700aa22b",
   "metadata": {},
   "outputs": [],
   "source": [
    "length=10\n",
    "width=20\n"
   ]
  },
  {
   "cell_type": "code",
   "execution_count": 17,
   "id": "417979d8",
   "metadata": {},
   "outputs": [
    {
     "name": "stdout",
     "output_type": "stream",
     "text": [
      "area= 200\n"
     ]
    }
   ],
   "source": [
    "print('area=',(length)*(width))"
   ]
  },
  {
   "cell_type": "code",
   "execution_count": 20,
   "id": "8bd04910",
   "metadata": {},
   "outputs": [
    {
     "name": "stdout",
     "output_type": "stream",
     "text": [
      "perimeter= 60\n"
     ]
    }
   ],
   "source": [
    "print('perimeter=',2*((length)+(width)))"
   ]
  },
  {
   "cell_type": "markdown",
   "id": "835f1ba8",
   "metadata": {},
   "source": [
    "Get radius of a circle using prompt. Calculate the area (area = pi x r x r) and circumference (c = 2 x pi x r) where pi = 3.14."
   ]
  },
  {
   "cell_type": "code",
   "execution_count": 21,
   "id": "124e5faa",
   "metadata": {},
   "outputs": [],
   "source": [
    "pi=3.14\n",
    "r=3"
   ]
  },
  {
   "cell_type": "code",
   "execution_count": 22,
   "id": "5beccd6d",
   "metadata": {},
   "outputs": [
    {
     "name": "stdout",
     "output_type": "stream",
     "text": [
      "area = 28.259999999999998\n"
     ]
    }
   ],
   "source": [
    "print('area =', (pi) * (r) * (r))"
   ]
  },
  {
   "cell_type": "code",
   "execution_count": 23,
   "id": "936bd44d",
   "metadata": {},
   "outputs": [
    {
     "name": "stdout",
     "output_type": "stream",
     "text": [
      "c= 18.84\n"
     ]
    }
   ],
   "source": [
    "print('c=',2*pi*r)"
   ]
  },
  {
   "cell_type": "markdown",
   "id": "d37f6b20",
   "metadata": {},
   "source": [
    "Calculate the slope, x-intercept and y-intercept of y = 2x -2"
   ]
  },
  {
   "cell_type": "code",
   "execution_count": 24,
   "id": "9de2867a",
   "metadata": {},
   "outputs": [],
   "source": [
    "x=2"
   ]
  },
  {
   "cell_type": "code",
   "execution_count": 25,
   "id": "0bed1cb2",
   "metadata": {},
   "outputs": [
    {
     "name": "stdout",
     "output_type": "stream",
     "text": [
      "y= 2\n"
     ]
    }
   ],
   "source": [
    "print('y=',2*(x) -2)"
   ]
  },
  {
   "cell_type": "markdown",
   "id": "75ce6bda",
   "metadata": {},
   "source": [
    "Slope is (m = y2-y1/x2-x1). Find the slope and Euclidean distance between point (2, 2) and point (6,10)"
   ]
  },
  {
   "cell_type": "code",
   "execution_count": 26,
   "id": "dc9ae93c",
   "metadata": {},
   "outputs": [],
   "source": [
    "(x1,y1)=(2,2)"
   ]
  },
  {
   "cell_type": "code",
   "execution_count": 27,
   "id": "542935b6",
   "metadata": {},
   "outputs": [],
   "source": [
    "(x2,y2)=(6,10)"
   ]
  },
  {
   "cell_type": "code",
   "execution_count": 28,
   "id": "451852e8",
   "metadata": {},
   "outputs": [
    {
     "name": "stdout",
     "output_type": "stream",
     "text": [
      "m= 7.666666666666666\n"
     ]
    }
   ],
   "source": [
    "print('m=',(y2)-(y1)/(x2)-(x1))"
   ]
  },
  {
   "cell_type": "markdown",
   "id": "fb146d95",
   "metadata": {},
   "source": [
    "Find the length of 'python' and 'dragon' and make a falsy comparison statement."
   ]
  },
  {
   "cell_type": "code",
   "execution_count": 36,
   "id": "bac41b51",
   "metadata": {},
   "outputs": [
    {
     "name": "stdout",
     "output_type": "stream",
     "text": [
      "False\n"
     ]
    }
   ],
   "source": [
    "print(len('python') != len('dragon'))"
   ]
  }
 ],
 "metadata": {
  "kernelspec": {
   "display_name": "Python 3 (ipykernel)",
   "language": "python",
   "name": "python3"
  },
  "language_info": {
   "codemirror_mode": {
    "name": "ipython",
    "version": 3
   },
   "file_extension": ".py",
   "mimetype": "text/x-python",
   "name": "python",
   "nbconvert_exporter": "python",
   "pygments_lexer": "ipython3",
   "version": "3.11.3"
  }
 },
 "nbformat": 4,
 "nbformat_minor": 5
}
