{
 "cells": [
  {
   "cell_type": "markdown",
   "id": "241ad230",
   "metadata": {},
   "source": [
    "Declare a function add_two_numbers. It takes two parameters and it returns a sum.\n"
   ]
  },
  {
   "cell_type": "code",
   "execution_count": 20,
   "id": "980f587e",
   "metadata": {},
   "outputs": [
    {
     "name": "stdout",
     "output_type": "stream",
     "text": [
      "5\n"
     ]
    }
   ],
   "source": [
    "def add_two_numbers(num1, num2):\n",
    "    num1=2\n",
    "    num2=3\n",
    "    return num1 + num2\n",
    "print(add_two_numbers(2,3))\n"
   ]
  },
  {
   "cell_type": "markdown",
   "id": "3f0b59ca",
   "metadata": {},
   "source": [
    "Area of a circle is calculated as follows: area = π x r x r. Write a function that calculates area_of_circle."
   ]
  },
  {
   "cell_type": "code",
   "execution_count": 14,
   "id": "066a36db",
   "metadata": {},
   "outputs": [
    {
     "name": "stdout",
     "output_type": "stream",
     "text": [
      "12.566370614359172\n"
     ]
    }
   ],
   "source": [
    "import math\n",
    "def area_of_circle(radius):\n",
    "    return math.pi * radius * radius\n",
    "print(area_of_circle(2))"
   ]
  },
  {
   "cell_type": "markdown",
   "id": "0b91ac8d",
   "metadata": {},
   "source": [
    "Write a function called add_all_nums which takes arbitrary number of arguments and sums all the arguments. Check if all the list items are number types. If not do give a reasonable feedback."
   ]
  },
  {
   "cell_type": "code",
   "execution_count": 15,
   "id": "22372719",
   "metadata": {},
   "outputs": [
    {
     "name": "stdout",
     "output_type": "stream",
     "text": [
      "15\n"
     ]
    }
   ],
   "source": [
    "def add_all_nums(*args):\n",
    "    total = 0\n",
    "    for num in args:\n",
    "        if not isinstance(num, (int, float)):\n",
    "            return \"All list items should be numbers.\"\n",
    "        total += num\n",
    "    return total\n",
    "print(add_all_nums(1, 2, 3, 4, 5)) "
   ]
  },
  {
   "cell_type": "markdown",
   "id": "7f3552a8",
   "metadata": {},
   "source": [
    "Temperature in °C can be converted to °F using this formula: °F = (°C x 9/5) + 32. Write a function which converts °C to °F, convert_celsius_to-fahrenheit."
   ]
  },
  {
   "cell_type": "code",
   "execution_count": 22,
   "id": "904aca10",
   "metadata": {},
   "outputs": [
    {
     "name": "stdout",
     "output_type": "stream",
     "text": [
      "86.0\n"
     ]
    }
   ],
   "source": [
    "\n",
    "def convert_celsius_to_fahrenheit(celsius):\n",
    "    return (celsius * 9/5) + 32\n",
    "print(convert_celsius_to_fahrenheit(30)) "
   ]
  },
  {
   "cell_type": "markdown",
   "id": "3dd3dd2c",
   "metadata": {},
   "source": [
    "Write a function called check-season, it takes a month parameter and returns the season: Autumn, Winter, Spring or Summer.\n",
    "    \n",
    "Write a function called calculate_slope which return the slope of a linear equation\n",
    "\n",
    "Quadratic equation is calculated as follows: ax² + bx + c = 0. Write a function which calculates solution set of a quadratic equation, solve_quadratic_eqn.\n",
    "    \n"
   ]
  },
  {
   "cell_type": "code",
   "execution_count": 31,
   "id": "6f235a21",
   "metadata": {},
   "outputs": [],
   "source": [
    "def check_season(month):\n",
    "    if month in [3, 4, 5]:\n",
    "        return \"Spring\"\n",
    "    elif month in [6, 7, 8]:\n",
    "        return \"Summer\"\n",
    "    elif month in [9, 10, 11]:\n",
    "        return \"Autumn\"\n",
    "    else:\n",
    "        return \"Winter\"\n",
    "    print(check_season(6))"
   ]
  },
  {
   "cell_type": "code",
   "execution_count": 32,
   "id": "3e62a931",
   "metadata": {},
   "outputs": [
    {
     "name": "stdout",
     "output_type": "stream",
     "text": [
      "1.0\n"
     ]
    }
   ],
   "source": [
    "def calculate_slope(x1, y1, x2, y2):\n",
    "    return (y2 - y1) / (x2 - x1)\n",
    "\n",
    "print(calculate_slope(1, 2, 3, 4))  "
   ]
  },
  {
   "cell_type": "code",
   "execution_count": 33,
   "id": "3f7e88dc",
   "metadata": {},
   "outputs": [],
   "source": [
    "def solve_quadratic_eqn(a, b, c):\n",
    "    discriminant = b**2 - 4*a*c\n",
    "    if discriminant > 0:\n",
    "        root1 = (-b + math.sqrt(discriminant)) / (2*a)\n",
    "        root2 = (-b - math.sqrt(discriminant)) / (2*a)\n",
    "        return (root1, root2)\n",
    "    elif discriminant == 0:\n",
    "        root = -b / (2*a)\n",
    "        return root\n",
    "    else:\n",
    "        return \"No real roots\"\n",
    "    print(solve_quadratic_eqn(1, -3, 2))  "
   ]
  },
  {
   "cell_type": "code",
   "execution_count": null,
   "id": "01a9c384",
   "metadata": {},
   "outputs": [],
   "source": []
  }
 ],
 "metadata": {
  "kernelspec": {
   "display_name": "Python 3 (ipykernel)",
   "language": "python",
   "name": "python3"
  },
  "language_info": {
   "codemirror_mode": {
    "name": "ipython",
    "version": 3
   },
   "file_extension": ".py",
   "mimetype": "text/x-python",
   "name": "python",
   "nbconvert_exporter": "python",
   "pygments_lexer": "ipython3",
   "version": "3.11.3"
  }
 },
 "nbformat": 4,
 "nbformat_minor": 5
}
