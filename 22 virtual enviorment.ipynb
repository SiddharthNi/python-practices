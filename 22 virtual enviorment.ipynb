{
 "cells": [
  {
   "cell_type": "markdown",
   "id": "425fc69a",
   "metadata": {},
   "source": [
    "Setting up Virtual Environments\n",
    "\n",
    "To start with project, it would be better to have a virtual environment. Virtual environment can help us to create an isolated\n",
    "\n",
    "or separate environment. This will help us to avoid conflicts in dependencies across projects. If you write pip freeze on your\n",
    "\n",
    "terminal you will see all the installed packages on your computer. If we use virtualenv, we will access only packages which are \n",
    "\n",
    "specific for that project. Open your terminal and install virtualenv"
   ]
  },
  {
   "cell_type": "code",
   "execution_count": 1,
   "id": "c0575b06",
   "metadata": {},
   "outputs": [
    {
     "name": "stdout",
     "output_type": "stream",
     "text": [
      "Collecting virtualenv\n",
      "  Downloading virtualenv-20.25.1-py3-none-any.whl (3.8 MB)\n",
      "                                              0.0/3.8 MB ? eta -:--:--\n",
      "     -                                        0.2/3.8 MB 5.0 MB/s eta 0:00:01\n",
      "     -----                                    0.5/3.8 MB 6.0 MB/s eta 0:00:01\n",
      "     --------                                 0.8/3.8 MB 6.6 MB/s eta 0:00:01\n",
      "     ------------                             1.2/3.8 MB 7.1 MB/s eta 0:00:01\n",
      "     --------------                           1.4/3.8 MB 6.4 MB/s eta 0:00:01\n",
      "     ---------------                          1.5/3.8 MB 6.6 MB/s eta 0:00:01\n",
      "     -----------------                        1.7/3.8 MB 5.6 MB/s eta 0:00:01\n",
      "     -----------------                        1.7/3.8 MB 5.4 MB/s eta 0:00:01\n",
      "     --------------------                     1.9/3.8 MB 5.1 MB/s eta 0:00:01\n",
      "     ---------------------                    2.0/3.8 MB 4.9 MB/s eta 0:00:01\n",
      "     ----------------------                   2.1/3.8 MB 4.5 MB/s eta 0:00:01\n",
      "     ----------------------                   2.2/3.8 MB 4.2 MB/s eta 0:00:01\n",
      "     ------------------------                 2.3/3.8 MB 4.1 MB/s eta 0:00:01\n",
      "     --------------------------               2.5/3.8 MB 4.0 MB/s eta 0:00:01\n",
      "     ----------------------------             2.7/3.8 MB 4.0 MB/s eta 0:00:01\n",
      "     -----------------------------            2.8/3.8 MB 3.9 MB/s eta 0:00:01\n",
      "     ------------------------------           2.9/3.8 MB 3.9 MB/s eta 0:00:01\n",
      "     --------------------------------         3.1/3.8 MB 3.9 MB/s eta 0:00:01\n",
      "     ----------------------------------       3.3/3.8 MB 3.9 MB/s eta 0:00:01\n",
      "     -----------------------------------      3.4/3.8 MB 3.8 MB/s eta 0:00:01\n",
      "     -------------------------------------    3.5/3.8 MB 3.8 MB/s eta 0:00:01\n",
      "     ---------------------------------------  3.7/3.8 MB 3.8 MB/s eta 0:00:01\n",
      "     ---------------------------------------  3.8/3.8 MB 3.8 MB/s eta 0:00:01\n",
      "     ---------------------------------------  3.8/3.8 MB 3.8 MB/s eta 0:00:01\n",
      "     ---------------------------------------  3.8/3.8 MB 3.8 MB/s eta 0:00:01\n",
      "     ---------------------------------------  3.8/3.8 MB 3.3 MB/s eta 0:00:01\n",
      "     ---------------------------------------- 3.8/3.8 MB 3.1 MB/s eta 0:00:00\n",
      "Collecting distlib<1,>=0.3.7 (from virtualenv)\n",
      "  Downloading distlib-0.3.8-py2.py3-none-any.whl (468 kB)\n",
      "                                              0.0/468.9 kB ? eta -:--:--\n",
      "     ---------                              112.6/468.9 kB 3.2 MB/s eta 0:00:01\n",
      "     ------------------                     225.3/468.9 kB 2.8 MB/s eta 0:00:01\n",
      "     --------------------------             327.7/468.9 kB 2.5 MB/s eta 0:00:01\n",
      "     -------------------------------------  460.8/468.9 kB 2.4 MB/s eta 0:00:01\n",
      "     -------------------------------------- 468.9/468.9 kB 2.3 MB/s eta 0:00:00\n",
      "Collecting filelock<4,>=3.12.2 (from virtualenv)\n",
      "  Downloading filelock-3.13.3-py3-none-any.whl (11 kB)\n",
      "Collecting platformdirs<5,>=3.9.1 (from virtualenv)\n",
      "  Downloading platformdirs-4.2.0-py3-none-any.whl (17 kB)\n",
      "Installing collected packages: distlib, platformdirs, filelock, virtualenv\n",
      "  Attempting uninstall: platformdirs\n",
      "    Found existing installation: platformdirs 2.5.2\n",
      "    Uninstalling platformdirs-2.5.2:\n",
      "      Successfully uninstalled platformdirs-2.5.2\n",
      "  Attempting uninstall: filelock\n",
      "    Found existing installation: filelock 3.9.0\n",
      "    Uninstalling filelock-3.9.0:\n",
      "      Successfully uninstalled filelock-3.9.0\n",
      "Successfully installed distlib-0.3.8 filelock-3.13.3 platformdirs-4.2.0 virtualenv-20.25.1\n",
      "Note: you may need to restart the kernel to use updated packages.\n"
     ]
    },
    {
     "name": "stderr",
     "output_type": "stream",
     "text": [
      "ERROR: pip's dependency resolver does not currently take into account all the packages that are installed. This behaviour is the source of the following dependency conflicts.\n",
      "python-lsp-black 1.2.1 requires black>=22.3.0, but you have black 0.0 which is incompatible.\n"
     ]
    }
   ],
   "source": [
    "pip install virtualenv"
   ]
  },
  {
   "cell_type": "code",
   "execution_count": null,
   "id": "10e81a97",
   "metadata": {},
   "outputs": [],
   "source": []
  },
  {
   "cell_type": "code",
   "execution_count": null,
   "id": "86a051c2",
   "metadata": {},
   "outputs": [],
   "source": []
  },
  {
   "cell_type": "code",
   "execution_count": null,
   "id": "90587bdf",
   "metadata": {},
   "outputs": [],
   "source": []
  },
  {
   "cell_type": "code",
   "execution_count": null,
   "id": "f96150f8",
   "metadata": {},
   "outputs": [],
   "source": []
  }
 ],
 "metadata": {
  "kernelspec": {
   "display_name": "Python 3 (ipykernel)",
   "language": "python",
   "name": "python3"
  },
  "language_info": {
   "codemirror_mode": {
    "name": "ipython",
    "version": 3
   },
   "file_extension": ".py",
   "mimetype": "text/x-python",
   "name": "python",
   "nbconvert_exporter": "python",
   "pygments_lexer": "ipython3",
   "version": "3.11.3"
  }
 },
 "nbformat": 4,
 "nbformat_minor": 5
}
