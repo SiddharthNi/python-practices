{
 "cells": [
  {
   "cell_type": "markdown",
   "id": "41b7268c",
   "metadata": {},
   "source": [
    "Making API Requests in Python\n",
    "\n",
    "\n",
    "In order to work with API some tools are required such as requests so we need to first install them in our system.\n",
    "\n",
    "Command to install ‘requests’:\n",
    "\n",
    "# pip3 install requests\n",
    "\n",
    "Once we have installed it, we need to import it in our code to use it.\n",
    "\n",
    "Command to import ‘requests’:\n",
    "\n",
    "## import requests\n"
   ]
  },
  {
   "cell_type": "code",
   "execution_count": null,
   "id": "559d5c46",
   "metadata": {},
   "outputs": [],
   "source": [
    "Extracting stock price by the help of API\n",
    "In this Python program fetches the live stock data for “IBM” from the Alpha Vantage API using the 5-minute interval and prints the opening price.Here we make use of ‘requests’ to make a call and it is checked with the help of status code that whether our request was successful or not.Then the response is converted to python dictionary and the respected data is stored .\n",
    "\n",
    "import requests\n",
    "import json\n",
    "# Function to get live stock data for a symbol\n",
    "def get_stock_data():\n",
    "    url = f\"https://www.alphavantage.co/query?function=TIME_SERIES_INTRADAY&symbol=IBM&interval=5min&outputsize=full&apikey=demo\"\n",
    "    response = requests.get(url)\n",
    "     \n",
    "    # Check if the response is successful\n",
    "    if response.status_code == 200:\n",
    "        data = response.json()\n",
    "        last_refreshed = data[\"Meta Data\"][\"3. Last Refreshed\"]\n",
    "        price = data[\"Time Series (5min)\"][last_refreshed][\"1. open\"]\n",
    "        return price\n",
    "    else:\n",
    "        return None\n",
    " \n",
    "stock_prices = {}\n",
    "price = get_stock_data()\n",
    "symbol=\"IBM\"\n",
    "if price is not None:\n",
    "    stock_prices[symbol] = price\n",
    " \n",
    "print(f\"{symbol}: {price}\")"
   ]
  },
  {
   "cell_type": "markdown",
   "id": "67c909c6",
   "metadata": {},
   "source": [
    "API Documentation\n",
    "\n",
    "\n",
    "API Documentation is very essential and it helps in effective interaction. Here, we are using NewsAPI that provides us the \n",
    "\n",
    "information regarding various news of various countries and celebrities. To get news updates from NewsAPI, we need a special key\n",
    "\n",
    "called an API key. Think of it as a digital passcode that lets us access their news database. We’ve stored this key in a place\n",
    "\n",
    "called API_KEY.\n",
    "\n",
    "\n",
    "Next, we’ve built a specific web address (or URL) that tells NewsAPI exactly what kind of news we want – in this case, top\n",
    "\n",
    "business headlines from the United States. It’s like telling a librarian you’re interested in the business section of a \n",
    "\n",
    "newspaper from a particular city.\n",
    "\n",
    "After setting up this request, our code then sends a message to NewsAPI using this URL. It’s similar to clicking on a link to\n",
    "\n",
    "see a webpage. Once we send this message, NewsAPI replies with a status update. This status tells us if our request was\n",
    "\n",
    "successful or if there was any problem. We then simply print out this status to see if everything worked as expected."
   ]
  },
  {
   "cell_type": "code",
   "execution_count": null,
   "id": "e837f01a",
   "metadata": {},
   "outputs": [],
   "source": [
    "import requests\n",
    "# Replace 'API_KEY' with your actual API key from NewsAPI\n",
    "API_KEY = '3805f6bbabcb42b3a0c08a489baf603d'\n",
    "url = f\"https://newsapi.org/v2/top-headlines?country=us&category=business&apiKey={API_KEY}\"\n",
    "response = requests.get(url)\n",
    "print(response.status_code)"
   ]
  },
  {
   "cell_type": "markdown",
   "id": "352fbe1b",
   "metadata": {},
   "source": [
    "Working with JSON Data\n",
    "\n",
    "\n",
    "While working with APIs, it is very essential to know how to work with JSON data. Json universally works as the language of APIs\n",
    "\n",
    "that helps in providing a way to encode the data structures in a format that is easily interpreted by machines. Imagine browsing\n",
    "\n",
    "a news website. The data we see there—headlines, descriptions, images—is often structured in a format called JSON. It’s like the\n",
    "\n",
    "universal language that APIs speak.\n",
    "\n",
    "Now, to make sense of this digital jigsaw puzzle, we’ve written a Python script. This script acts like a digital news curator: \n",
    "\n",
    "\n",
    "it reaches out to NewsAPI using a library called requests and fetches the latest business headlines from the US. Once it has \n",
    "\n",
    "this data, Python steps in, sorting and presenting it in a neat list. Think of it as a friendly librarian picking out the top \n",
    "\n",
    "three articles for us from a vast collection. This whole process not only gives us a glimpse into how APIs and JSON work hand in\n",
    "\n",
    "hand but also underscores the magic Python brings to the table in managing such tasks effortlessly."
   ]
  },
  {
   "cell_type": "code",
   "execution_count": null,
   "id": "52095c80",
   "metadata": {},
   "outputs": [],
   "source": [
    "import json\n",
    "import requests\n",
    "\n",
    "def fetch_and_print_articles(api_url):\n",
    "\tresponse = requests.get(api_url)\n",
    "\t\n",
    "\tif response.status_code == 200:\n",
    "\t\tarticles = response.json().get('articles', [])\n",
    "\t\t\n",
    "\t\tfor index, article in enumerate(articles[:3], start=1):\n",
    "\t\t\tprint(f\"Article {index}:\\n{json.dumps(article, sort_keys=True, indent=4)}\\n\")\n",
    "\telse:\n",
    "\t\tprint(f\"Error: {response.status_code}\")\n",
    "\n",
    "API_KEY = '3805f6bbabcb42b3a0c08a489baf603d'\n",
    "api_endpoint = f\"https://newsapi.org/v2/top-headlines?country=us&category=business&apiKey={API_KEY}\"\n",
    "\n",
    "fetch_and_print_articles(api_endpoint)\n",
    "\n",
    "def jprint(obj):\n",
    "\tprint(json.dumps(obj, sort_keys=True, indent=4))\n",
    "\n",
    "# Example usage:\n",
    "# jprint(response.json())\n"
   ]
  }
 ],
 "metadata": {
  "kernelspec": {
   "display_name": "Python 3 (ipykernel)",
   "language": "python",
   "name": "python3"
  },
  "language_info": {
   "codemirror_mode": {
    "name": "ipython",
    "version": 3
   },
   "file_extension": ".py",
   "mimetype": "text/x-python",
   "name": "python",
   "nbconvert_exporter": "python",
   "pygments_lexer": "ipython3",
   "version": "3.11.3"
  }
 },
 "nbformat": 4,
 "nbformat_minor": 5
}
