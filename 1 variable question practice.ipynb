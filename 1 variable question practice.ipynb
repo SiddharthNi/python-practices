{
 "cells": [
  {
   "cell_type": "markdown",
   "id": "8ec0ff60",
   "metadata": {},
   "source": [
    "Write a python comment saying 'Day 2: 30 Days of python programming'"
   ]
  },
  {
   "cell_type": "code",
   "execution_count": 2,
   "id": "c08ddd85",
   "metadata": {},
   "outputs": [],
   "source": [
    "a=\"Day 2: 30 Days of python programming\""
   ]
  },
  {
   "cell_type": "code",
   "execution_count": 3,
   "id": "92511543",
   "metadata": {},
   "outputs": [
    {
     "data": {
      "text/plain": [
       "'Day 2: 30 Days of python programming'"
      ]
     },
     "execution_count": 3,
     "metadata": {},
     "output_type": "execute_result"
    }
   ],
   "source": [
    "a"
   ]
  },
  {
   "cell_type": "markdown",
   "id": "ec30b651",
   "metadata": {},
   "source": [
    "Declare a first name variable and assign a value to it\n",
    "\n",
    "Declare a last name variable and assign a value to it\n",
    "\n",
    "Declare a full name variable and assign a value to it\n",
    "\n",
    "Declare a country variable and assign a value to it\n",
    "\n",
    "Declare a city variable and assign a value to it\n",
    "\n",
    "Declare an age variable and assign a value to it\n",
    "\n",
    "Declare a year variable and assign a value to it\n",
    "\n",
    "Declare a variable is_married and assign a value to it\n",
    "\n",
    "Declare a variable is_true and assign a value to it\n",
    "\n",
    "Declare a variable is_light_on and assign a value to it\n",
    "\n",
    "Declare multiple variable on one line"
   ]
  },
  {
   "cell_type": "code",
   "execution_count": 5,
   "id": "a3513771",
   "metadata": {},
   "outputs": [],
   "source": [
    "first_name, last_name, country, age, is_married = 'sachin', 'Yadav', 'nashik', 50, True"
   ]
  },
  {
   "cell_type": "code",
   "execution_count": 6,
   "id": "9f6f0b7e",
   "metadata": {},
   "outputs": [
    {
     "name": "stdout",
     "output_type": "stream",
     "text": [
      "sachin Yadav nashik 50 True\n",
      "First name: sachin\n",
      "Last name:  Yadav\n",
      "Country:  nashik\n",
      "Age:  50\n",
      "Married:  True\n"
     ]
    }
   ],
   "source": [
    "print(first_name, last_name, country, age, is_married)\n",
    "print('First name:', first_name)\n",
    "print('Last name: ', last_name)\n",
    "print('Country: ', country)\n",
    "print('Age: ', age)\n",
    "print('Married: ', is_married)"
   ]
  },
  {
   "cell_type": "markdown",
   "id": "d04d6efb",
   "metadata": {},
   "source": [
    "Check the data type of all your variables using type() built-in function"
   ]
  },
  {
   "cell_type": "code",
   "execution_count": 7,
   "id": "20d41e1f",
   "metadata": {},
   "outputs": [],
   "source": [
    "age=50"
   ]
  },
  {
   "cell_type": "code",
   "execution_count": 8,
   "id": "53e5c59a",
   "metadata": {},
   "outputs": [
    {
     "name": "stdout",
     "output_type": "stream",
     "text": [
      "<class 'int'>\n"
     ]
    }
   ],
   "source": [
    "print(type(age))"
   ]
  },
  {
   "cell_type": "code",
   "execution_count": 11,
   "id": "e311c16b",
   "metadata": {},
   "outputs": [],
   "source": [
    "val=1+0j"
   ]
  },
  {
   "cell_type": "code",
   "execution_count": 12,
   "id": "4ca5ad88",
   "metadata": {},
   "outputs": [
    {
     "name": "stdout",
     "output_type": "stream",
     "text": [
      "<class 'complex'>\n"
     ]
    }
   ],
   "source": [
    "print(type(val))"
   ]
  },
  {
   "cell_type": "code",
   "execution_count": 13,
   "id": "d55883e8",
   "metadata": {},
   "outputs": [],
   "source": [
    "dec=0.5"
   ]
  },
  {
   "cell_type": "code",
   "execution_count": 14,
   "id": "46adaab5",
   "metadata": {},
   "outputs": [
    {
     "name": "stdout",
     "output_type": "stream",
     "text": [
      "<class 'float'>\n"
     ]
    }
   ],
   "source": [
    "print(type(dec))"
   ]
  },
  {
   "cell_type": "markdown",
   "id": "80bef5ff",
   "metadata": {},
   "source": [
    "Using the len() built-in function, find the length of your first name"
   ]
  },
  {
   "cell_type": "code",
   "execution_count": 15,
   "id": "3b65b11b",
   "metadata": {},
   "outputs": [
    {
     "name": "stdout",
     "output_type": "stream",
     "text": [
      "6\n"
     ]
    }
   ],
   "source": [
    "print(len(first_name))"
   ]
  },
  {
   "cell_type": "markdown",
   "id": "e7d1bb51",
   "metadata": {},
   "source": [
    "Compare the length of your first name and your last name"
   ]
  },
  {
   "cell_type": "code",
   "execution_count": 16,
   "id": "4f968119",
   "metadata": {},
   "outputs": [
    {
     "name": "stdout",
     "output_type": "stream",
     "text": [
      "6\n"
     ]
    }
   ],
   "source": [
    "print(len(first_name))"
   ]
  },
  {
   "cell_type": "code",
   "execution_count": 17,
   "id": "2d019f5e",
   "metadata": {},
   "outputs": [
    {
     "name": "stdout",
     "output_type": "stream",
     "text": [
      "5\n"
     ]
    }
   ],
   "source": [
    "print(len(last_name))"
   ]
  },
  {
   "cell_type": "code",
   "execution_count": 20,
   "id": "3de19040",
   "metadata": {},
   "outputs": [
    {
     "name": "stdout",
     "output_type": "stream",
     "text": [
      "6\n",
      "5\n"
     ]
    },
    {
     "data": {
      "text/plain": [
       "False"
      ]
     },
     "execution_count": 20,
     "metadata": {},
     "output_type": "execute_result"
    }
   ],
   "source": [
    "print(len(first_name))!= print(len(last_name))"
   ]
  },
  {
   "cell_type": "code",
   "execution_count": null,
   "id": "13e4ff9f",
   "metadata": {},
   "outputs": [],
   "source": [
    "Declare 5 as num_one and 4 as num_two\n",
    "\n",
    "Add num_one and num_two and assign the value to a variable total\n",
    "\n",
    "Subtract num_two from num_one and assign the value to a variable diff\n",
    "\n",
    "Multiply num_two and num_one and assign the value to a variable product\n",
    "\n",
    "Divide num_one by num_two and assign the value to a variable division\n",
    "\n",
    "Use modulus division to find num_two divided by num_one and assign the value to a variable remainder\n",
    "\n",
    "Calculate num_one to the power of num_two and assign the value to a variable exp\n",
    "\n",
    "Find floor division of num_one by num_two and assign the value to a variable floor_division"
   ]
  },
  {
   "cell_type": "code",
   "execution_count": 21,
   "id": "dcf71eb4",
   "metadata": {},
   "outputs": [],
   "source": [
    "num_one=5 "
   ]
  },
  {
   "cell_type": "code",
   "execution_count": 24,
   "id": "34d7ffef",
   "metadata": {},
   "outputs": [],
   "source": [
    "num_two=4"
   ]
  },
  {
   "cell_type": "code",
   "execution_count": 34,
   "id": "9eb6fe5f",
   "metadata": {},
   "outputs": [],
   "source": [
    "total= num_one + num_two"
   ]
  },
  {
   "cell_type": "code",
   "execution_count": 35,
   "id": "13113110",
   "metadata": {},
   "outputs": [
    {
     "data": {
      "text/plain": [
       "9"
      ]
     },
     "execution_count": 35,
     "metadata": {},
     "output_type": "execute_result"
    }
   ],
   "source": [
    "total"
   ]
  },
  {
   "cell_type": "code",
   "execution_count": 36,
   "id": "0cf43c2f",
   "metadata": {},
   "outputs": [],
   "source": [
    "diff = num_one- num_two"
   ]
  },
  {
   "cell_type": "code",
   "execution_count": 37,
   "id": "92dca275",
   "metadata": {},
   "outputs": [
    {
     "data": {
      "text/plain": [
       "1"
      ]
     },
     "execution_count": 37,
     "metadata": {},
     "output_type": "execute_result"
    }
   ],
   "source": [
    "diff"
   ]
  },
  {
   "cell_type": "code",
   "execution_count": 38,
   "id": "78db3aa6",
   "metadata": {},
   "outputs": [],
   "source": [
    "product= num_one*num_two"
   ]
  },
  {
   "cell_type": "code",
   "execution_count": 39,
   "id": "a7a2e1fb",
   "metadata": {},
   "outputs": [
    {
     "data": {
      "text/plain": [
       "20"
      ]
     },
     "execution_count": 39,
     "metadata": {},
     "output_type": "execute_result"
    }
   ],
   "source": [
    "product"
   ]
  },
  {
   "cell_type": "code",
   "execution_count": 42,
   "id": "b13b541b",
   "metadata": {},
   "outputs": [],
   "source": [
    "division= num_one/num_two"
   ]
  },
  {
   "cell_type": "code",
   "execution_count": 43,
   "id": "91519e75",
   "metadata": {},
   "outputs": [
    {
     "data": {
      "text/plain": [
       "1.25"
      ]
     },
     "execution_count": 43,
     "metadata": {},
     "output_type": "execute_result"
    }
   ],
   "source": [
    "division"
   ]
  },
  {
   "cell_type": "code",
   "execution_count": 44,
   "id": "37d05381",
   "metadata": {},
   "outputs": [],
   "source": [
    "remainder= num_one%num_two"
   ]
  },
  {
   "cell_type": "code",
   "execution_count": 45,
   "id": "3e19f580",
   "metadata": {},
   "outputs": [
    {
     "data": {
      "text/plain": [
       "1"
      ]
     },
     "execution_count": 45,
     "metadata": {},
     "output_type": "execute_result"
    }
   ],
   "source": [
    "remainder"
   ]
  },
  {
   "cell_type": "code",
   "execution_count": 46,
   "id": "4179d49a",
   "metadata": {},
   "outputs": [],
   "source": [
    "exp=num_one**num_two"
   ]
  },
  {
   "cell_type": "code",
   "execution_count": 47,
   "id": "c46834ab",
   "metadata": {},
   "outputs": [
    {
     "data": {
      "text/plain": [
       "625"
      ]
     },
     "execution_count": 47,
     "metadata": {},
     "output_type": "execute_result"
    }
   ],
   "source": [
    "exp"
   ]
  },
  {
   "cell_type": "code",
   "execution_count": 48,
   "id": "9c9841e7",
   "metadata": {},
   "outputs": [],
   "source": [
    "floor_division= num_one//num_two"
   ]
  },
  {
   "cell_type": "code",
   "execution_count": 49,
   "id": "06e90b75",
   "metadata": {},
   "outputs": [
    {
     "data": {
      "text/plain": [
       "1"
      ]
     },
     "execution_count": 49,
     "metadata": {},
     "output_type": "execute_result"
    }
   ],
   "source": [
    "floor_division"
   ]
  }
 ],
 "metadata": {
  "kernelspec": {
   "display_name": "Python 3 (ipykernel)",
   "language": "python",
   "name": "python3"
  },
  "language_info": {
   "codemirror_mode": {
    "name": "ipython",
    "version": 3
   },
   "file_extension": ".py",
   "mimetype": "text/x-python",
   "name": "python",
   "nbconvert_exporter": "python",
   "pygments_lexer": "ipython3",
   "version": "3.11.3"
  }
 },
 "nbformat": 4,
 "nbformat_minor": 5
}
