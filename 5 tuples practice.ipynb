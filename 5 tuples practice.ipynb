{
 "cells": [
  {
   "cell_type": "markdown",
   "id": "fa43ec7b",
   "metadata": {},
   "source": [
    "Create an empty tuple\n",
    "\n",
    "Create a tuple containing names of your sisters and your brothers (imaginary siblings are fine)\n",
    "\n",
    "Join brothers and sisters tuples and assign it to siblings\n",
    "\n",
    "How many siblings do you have?\n",
    "\n",
    "Modify the siblings tuple and add the name of your father and mother and assign it to family_members"
   ]
  },
  {
   "cell_type": "code",
   "execution_count": 1,
   "id": "aeaaa354",
   "metadata": {},
   "outputs": [],
   "source": [
    "empty_tuple=()"
   ]
  },
  {
   "cell_type": "code",
   "execution_count": 2,
   "id": "2b80b790",
   "metadata": {},
   "outputs": [
    {
     "data": {
      "text/plain": [
       "()"
      ]
     },
     "execution_count": 2,
     "metadata": {},
     "output_type": "execute_result"
    }
   ],
   "source": [
    "empty_tuple"
   ]
  },
  {
   "cell_type": "code",
   "execution_count": 3,
   "id": "fa7ada65",
   "metadata": {},
   "outputs": [],
   "source": [
    "brothers=(\"ram\",\"sham\")\n",
    "sisters=(\"sita\",\"gita\")"
   ]
  },
  {
   "cell_type": "code",
   "execution_count": 4,
   "id": "2dbadd26",
   "metadata": {},
   "outputs": [
    {
     "data": {
      "text/plain": [
       "('ram', 'sham')"
      ]
     },
     "execution_count": 4,
     "metadata": {},
     "output_type": "execute_result"
    }
   ],
   "source": [
    "brothers"
   ]
  },
  {
   "cell_type": "code",
   "execution_count": 5,
   "id": "0b323a73",
   "metadata": {},
   "outputs": [
    {
     "data": {
      "text/plain": [
       "('sita', 'gita')"
      ]
     },
     "execution_count": 5,
     "metadata": {},
     "output_type": "execute_result"
    }
   ],
   "source": [
    "sisters"
   ]
  },
  {
   "cell_type": "code",
   "execution_count": 6,
   "id": "cd4cfa03",
   "metadata": {},
   "outputs": [],
   "source": [
    "sibling= brothers+ sisters"
   ]
  },
  {
   "cell_type": "code",
   "execution_count": 11,
   "id": "60a20b0f",
   "metadata": {},
   "outputs": [
    {
     "data": {
      "text/plain": [
       "('ram', 'sham', 'sita', 'gita')"
      ]
     },
     "execution_count": 11,
     "metadata": {},
     "output_type": "execute_result"
    }
   ],
   "source": [
    "sibling"
   ]
  },
  {
   "cell_type": "code",
   "execution_count": 13,
   "id": "e833eee5",
   "metadata": {},
   "outputs": [
    {
     "data": {
      "text/plain": [
       "7"
      ]
     },
     "execution_count": 13,
     "metadata": {},
     "output_type": "execute_result"
    }
   ],
   "source": [
    "(len(\"sibling\"))"
   ]
  },
  {
   "cell_type": "code",
   "execution_count": 15,
   "id": "89b716d1",
   "metadata": {},
   "outputs": [],
   "source": [
    " mother=\"divyangana\"\n",
    "father=\"dhruv\""
   ]
  },
  {
   "cell_type": "code",
   "execution_count": 19,
   "id": "e1cf8e1d",
   "metadata": {},
   "outputs": [],
   "source": [
    "family_members= sibling+(mother,father)"
   ]
  },
  {
   "cell_type": "code",
   "execution_count": 20,
   "id": "11f402f2",
   "metadata": {},
   "outputs": [
    {
     "data": {
      "text/plain": [
       "('ram', 'sham', 'sita', 'gita', 'divyangana', 'dhruv')"
      ]
     },
     "execution_count": 20,
     "metadata": {},
     "output_type": "execute_result"
    }
   ],
   "source": [
    "family_members"
   ]
  }
 ],
 "metadata": {
  "kernelspec": {
   "display_name": "Python 3 (ipykernel)",
   "language": "python",
   "name": "python3"
  },
  "language_info": {
   "codemirror_mode": {
    "name": "ipython",
    "version": 3
   },
   "file_extension": ".py",
   "mimetype": "text/x-python",
   "name": "python",
   "nbconvert_exporter": "python",
   "pygments_lexer": "ipython3",
   "version": "3.11.3"
  }
 },
 "nbformat": 4,
 "nbformat_minor": 5
}
